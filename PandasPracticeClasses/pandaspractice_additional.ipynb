{
 "cells": [
  {
   "cell_type": "code",
   "execution_count": 2,
   "id": "d430b8ca-94b8-4b07-afe5-9e7f3f3dca7d",
   "metadata": {},
   "outputs": [
    {
     "name": "stdout",
     "output_type": "stream",
     "text": [
      "['Python', 'Programming']\n"
     ]
    }
   ],
   "source": [
    "s = \"Python Programming\"\n",
    "result = s.split(\" \")[-1]\n",
    "print(result)\n"
   ]
  },
  {
   "cell_type": "code",
   "execution_count": 8,
   "id": "37c8187f-a0fe-4968-86fb-8a1a0e62ef0c",
   "metadata": {},
   "outputs": [
    {
     "name": "stdout",
     "output_type": "stream",
     "text": [
      "rer\n",
      "True\n"
     ]
    }
   ],
   "source": [
    "s= \"racecar\"\n",
    "result = s==s[::-1]\n",
    "print(result)"
   ]
  },
  {
   "cell_type": "code",
   "execution_count": 17,
   "id": "97c59782-55ed-4d2e-91cb-34ea1c344ed0",
   "metadata": {},
   "outputs": [
    {
     "name": "stdout",
     "output_type": "stream",
     "text": [
      "3\n"
     ]
    }
   ],
   "source": [
    "string = \"Hello World\"\n",
    "print(string.find('lo'))# it will give index postion of the letter, if not found gives -1,if conbine words first word postion will display"
   ]
  },
  {
   "cell_type": "code",
   "execution_count": 27,
   "id": "8d6c455b-a797-48ae-b0ea-4a528c735cdb",
   "metadata": {},
   "outputs": [
    {
     "name": "stdout",
     "output_type": "stream",
     "text": [
      "1 4 5 6\n"
     ]
    }
   ],
   "source": [
    "a,b,c = \"123\" # it will unpack string in to a=1,b=2,c=3, but int not it will throw errorb,c,d = '456'\n",
    "b,c,d='456'\n",
    "print(a,b,c,d)"
   ]
  },
  {
   "cell_type": "code",
   "execution_count": 33,
   "id": "95c6f717-eb96-41d9-b177-12b3d26afac4",
   "metadata": {},
   "outputs": [
    {
     "name": "stdout",
     "output_type": "stream",
     "text": [
      "(1, 2, 3, 4, 5, 6, 7, 8) hi "
     ]
    }
   ],
   "source": [
    "T = (1,2,3,4,5,6,7,8)\n",
    "print(T,end= \" hi \")\n",
    "print(T[T.index(5)],end=\" \")\n",
    "#print(T[T[T[6]-3]-6])"
   ]
  },
  {
   "cell_type": "code",
   "execution_count": null,
   "id": "23d40ab1-0ffb-4b59-88a2-7d3ff447d51f",
   "metadata": {},
   "outputs": [],
   "source": []
  }
 ],
 "metadata": {
  "kernelspec": {
   "display_name": "Python 3 (ipykernel)",
   "language": "python",
   "name": "python3"
  },
  "language_info": {
   "codemirror_mode": {
    "name": "ipython",
    "version": 3
   },
   "file_extension": ".py",
   "mimetype": "text/x-python",
   "name": "python",
   "nbconvert_exporter": "python",
   "pygments_lexer": "ipython3",
   "version": "3.11.7"
  }
 },
 "nbformat": 4,
 "nbformat_minor": 5
}
