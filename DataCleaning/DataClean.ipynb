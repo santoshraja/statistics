{
 "cells": [
  {
   "cell_type": "code",
   "execution_count": 2,
   "id": "6d0b47e6-a1e2-42e7-ae08-5f735f6d9718",
   "metadata": {},
   "outputs": [
    {
     "name": "stdout",
     "output_type": "stream",
     "text": [
      "Ord_id                 0.00\n",
      "Prod_id                0.00\n",
      "Ship_id                0.00\n",
      "Cust_id                0.00\n",
      "Sales                  0.24\n",
      "Discount               0.65\n",
      "Order_Quantity         0.65\n",
      "Profit                 0.65\n",
      "Shipping_Cost          0.65\n",
      "Product_Base_Margin    1.30\n",
      "dtype: float64\n"
     ]
    }
   ],
   "source": [
    "#missing values % caliculation\n",
    "import pandas as pd\n",
    "df = pd.read_csv('https://media-doselect.s3.amazonaws.com/generic/xbgBw5Mv4J5qz9QnPQPqvkXk/market_fact.csv')\n",
    "print(round(100*(df.isnull().sum()/len(df.index)),2))#Round off percentage values to 2 decimial places."
   ]
  },
  {
   "cell_type": "code",
   "execution_count": 11,
   "id": "f5a79855-49bc-444e-8e4a-c46adaba015c",
   "metadata": {},
   "outputs": [
    {
     "name": "stdout",
     "output_type": "stream",
     "text": [
      "Ord_id                   0.0\n",
      "Prod_id                  0.0\n",
      "Ship_id                  0.0\n",
      "Cust_id                  0.0\n",
      "Sales                  100.0\n",
      "Discount               100.0\n",
      "Order_Quantity         100.0\n",
      "Profit                 100.0\n",
      "Shipping_Cost          100.0\n",
      "Product_Base_Margin    100.0\n",
      "dtype: float64\n"
     ]
    }
   ],
   "source": [
    "import pandas as pd\n",
    "#Remove the missing values from the rows having greater than 5 missing values and then print the percentage of missing values in each column.\n",
    "\n",
    "df = pd.read_csv('https://media-doselect.s3.amazonaws.com/generic/Lk7dpMpaeeJJer9EOXqWjJKLL/market_fact.csv')\n",
    "df = df[df.isnull().sum(axis=1)>5]\n",
    "print(round(100*(df.isnull().sum()/len(df.index)),2))"
   ]
  },
  {
   "cell_type": "code",
   "execution_count": 17,
   "id": "923c77ea-2ec9-4c47-9d8f-9354e89c9c3f",
   "metadata": {},
   "outputs": [
    {
     "name": "stdout",
     "output_type": "stream",
     "text": [
      "Ord_id                 0.00\n",
      "Prod_id                0.00\n",
      "Ship_id                0.00\n",
      "Cust_id                0.00\n",
      "Sales                  0.24\n",
      "Discount               0.65\n",
      "Order_Quantity         0.65\n",
      "Profit                 0.65\n",
      "Shipping_Cost          0.65\n",
      "Product_Base_Margin    0.00\n",
      "dtype: float64\n"
     ]
    }
   ],
   "source": [
    "#Impute the mean value at all the missing values of the column 'Product_Base_Margin' and then print the percentage of missing values in each column.\n",
    "import numpy as np\n",
    "import pandas as pd\n",
    "df = pd.read_csv('https://media-doselect.s3.amazonaws.com/generic/4XobYYebXE8neXERGebxyEY4y/market_fact.csv')\n",
    "df['Product_Base_Margin'] = df['Product_Base_Margin'].mean()\n",
    "\n",
    "print(round(100*(df.isnull().sum()/len(df.index)),2))"
   ]
  },
  {
   "cell_type": "code",
   "execution_count": null,
   "id": "85cd66ac-bb2e-4fcc-b5f3-5304cc6f7158",
   "metadata": {},
   "outputs": [],
   "source": []
  }
 ],
 "metadata": {
  "kernelspec": {
   "display_name": "Python 3 (ipykernel)",
   "language": "python",
   "name": "python3"
  },
  "language_info": {
   "codemirror_mode": {
    "name": "ipython",
    "version": 3
   },
   "file_extension": ".py",
   "mimetype": "text/x-python",
   "name": "python",
   "nbconvert_exporter": "python",
   "pygments_lexer": "ipython3",
   "version": "3.11.7"
  }
 },
 "nbformat": 4,
 "nbformat_minor": 5
}
