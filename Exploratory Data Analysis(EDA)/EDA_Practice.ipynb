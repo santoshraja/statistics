{
 "cells": [
  {
   "cell_type": "code",
   "execution_count": 157,
   "id": "a63889d9-9325-4bc7-880e-0968e59f7f5a",
   "metadata": {},
   "outputs": [],
   "source": [
    "## missig values questions\n",
    "import pandas as pd\n",
    "import numpy as np"
   ]
  },
  {
   "cell_type": "code",
   "execution_count": 158,
   "id": "ad44a3a4-db97-4581-b73c-ea9b537656fa",
   "metadata": {},
   "outputs": [
    {
     "data": {
      "text/html": [
       "<div>\n",
       "<style scoped>\n",
       "    .dataframe tbody tr th:only-of-type {\n",
       "        vertical-align: middle;\n",
       "    }\n",
       "\n",
       "    .dataframe tbody tr th {\n",
       "        vertical-align: top;\n",
       "    }\n",
       "\n",
       "    .dataframe thead th {\n",
       "        text-align: right;\n",
       "    }\n",
       "</style>\n",
       "<table border=\"1\" class=\"dataframe\">\n",
       "  <thead>\n",
       "    <tr style=\"text-align: right;\">\n",
       "      <th></th>\n",
       "      <th>Prefix</th>\n",
       "      <th>Assignment</th>\n",
       "      <th>Tutorial</th>\n",
       "      <th>Midterm</th>\n",
       "      <th>TakeHome</th>\n",
       "      <th>Final</th>\n",
       "    </tr>\n",
       "  </thead>\n",
       "  <tbody>\n",
       "    <tr>\n",
       "      <th>0</th>\n",
       "      <td>5</td>\n",
       "      <td>57.14</td>\n",
       "      <td>34.09</td>\n",
       "      <td>64.38</td>\n",
       "      <td>51.48</td>\n",
       "      <td>52.50</td>\n",
       "    </tr>\n",
       "    <tr>\n",
       "      <th>1</th>\n",
       "      <td>8</td>\n",
       "      <td>95.05</td>\n",
       "      <td>105.49</td>\n",
       "      <td>67.50</td>\n",
       "      <td>99.07</td>\n",
       "      <td>68.33</td>\n",
       "    </tr>\n",
       "    <tr>\n",
       "      <th>2</th>\n",
       "      <td>8</td>\n",
       "      <td>83.70</td>\n",
       "      <td>83.17</td>\n",
       "      <td>30.00</td>\n",
       "      <td>63.15</td>\n",
       "      <td>48.89</td>\n",
       "    </tr>\n",
       "    <tr>\n",
       "      <th>3</th>\n",
       "      <td>7</td>\n",
       "      <td>81.22</td>\n",
       "      <td>96.06</td>\n",
       "      <td>49.38</td>\n",
       "      <td>105.93</td>\n",
       "      <td>80.56</td>\n",
       "    </tr>\n",
       "    <tr>\n",
       "      <th>4</th>\n",
       "      <td>8</td>\n",
       "      <td>91.32</td>\n",
       "      <td>93.64</td>\n",
       "      <td>95.00</td>\n",
       "      <td>107.41</td>\n",
       "      <td>73.89</td>\n",
       "    </tr>\n",
       "  </tbody>\n",
       "</table>\n",
       "</div>"
      ],
      "text/plain": [
       "   Prefix  Assignment  Tutorial  Midterm  TakeHome  Final\n",
       "0       5       57.14     34.09    64.38     51.48  52.50\n",
       "1       8       95.05    105.49    67.50     99.07  68.33\n",
       "2       8       83.70     83.17    30.00     63.15  48.89\n",
       "3       7       81.22     96.06    49.38    105.93  80.56\n",
       "4       8       91.32     93.64    95.00    107.41  73.89"
      ]
     },
     "execution_count": 158,
     "metadata": {},
     "output_type": "execute_result"
    }
   ],
   "source": [
    "marks = pd.read_csv('class-grades.csv')\n",
    "marks.head()"
   ]
  },
  {
   "cell_type": "code",
   "execution_count": 159,
   "id": "955ab71e-1c5b-493b-a3db-f4188c549686",
   "metadata": {},
   "outputs": [
    {
     "name": "stdout",
     "output_type": "stream",
     "text": [
      "0\n",
      "2\n",
      "12\n",
      "16\n",
      "9\n",
      "5\n",
      "Prefix         0\n",
      "Assignment     2\n",
      "Tutorial      12\n",
      "Midterm       16\n",
      "TakeHome       9\n",
      "Final          5\n",
      "dtype: int64\n"
     ]
    }
   ],
   "source": [
    "print(marks.Prefix.isnull().sum())\n",
    "print(marks.Assignment.isnull().sum())\n",
    "print(marks.Tutorial.isnull().sum())\n",
    "print(marks.Midterm.isnull().sum())\n",
    "print(marks.TakeHome.isnull().sum())\n",
    "print(marks.Final.isnull().sum())\n",
    "\n",
    "# total datset how many columns and how many missing values of each column u can find like below\n",
    "print(marks.isnull().sum())"
   ]
  },
  {
   "cell_type": "code",
   "execution_count": 160,
   "id": "ee766646-5e63-42b8-9428-ac6aab923742",
   "metadata": {},
   "outputs": [
    {
     "name": "stdout",
     "output_type": "stream",
     "text": [
      "Prefix         0\n",
      "Assignment     0\n",
      "Tutorial      10\n",
      "Midterm       14\n",
      "TakeHome       7\n",
      "Final          3\n",
      "dtype: int64\n"
     ]
    }
   ],
   "source": [
    "## removing missing values of rows which has 5 missing values , by default it ill take column if give axis=1 take row\n",
    "marks = marks[~(marks.isnull().sum(axis=1)==5)]\n",
    "marks\n",
    "print(marks.isnull().sum())"
   ]
  },
  {
   "cell_type": "code",
   "execution_count": 161,
   "id": "55adcdc1-9326-441b-94b7-ee6bcdfd6564",
   "metadata": {},
   "outputs": [
    {
     "data": {
      "text/html": [
       "<div>\n",
       "<style scoped>\n",
       "    .dataframe tbody tr th:only-of-type {\n",
       "        vertical-align: middle;\n",
       "    }\n",
       "\n",
       "    .dataframe tbody tr th {\n",
       "        vertical-align: top;\n",
       "    }\n",
       "\n",
       "    .dataframe thead th {\n",
       "        text-align: right;\n",
       "    }\n",
       "</style>\n",
       "<table border=\"1\" class=\"dataframe\">\n",
       "  <thead>\n",
       "    <tr style=\"text-align: right;\">\n",
       "      <th></th>\n",
       "      <th>Customer_Name</th>\n",
       "      <th>Province</th>\n",
       "      <th>Region</th>\n",
       "      <th>Customer_Segment</th>\n",
       "      <th>Cust_id</th>\n",
       "    </tr>\n",
       "  </thead>\n",
       "  <tbody>\n",
       "    <tr>\n",
       "      <th>0</th>\n",
       "      <td>MUHAMMED MACINTYRE</td>\n",
       "      <td>NUNAVUT</td>\n",
       "      <td>NUNAVUT</td>\n",
       "      <td>SMALL BUSINESS</td>\n",
       "      <td>1</td>\n",
       "    </tr>\n",
       "    <tr>\n",
       "      <th>1</th>\n",
       "      <td>BARRY FRENCH</td>\n",
       "      <td>NUNAVUT</td>\n",
       "      <td>NUNAVUT</td>\n",
       "      <td>CONSUMER</td>\n",
       "      <td>2</td>\n",
       "    </tr>\n",
       "    <tr>\n",
       "      <th>2</th>\n",
       "      <td>CLAY ROZENDAL</td>\n",
       "      <td>NUNAVUT</td>\n",
       "      <td>NUNAVUT</td>\n",
       "      <td>CORPORATE</td>\n",
       "      <td>3</td>\n",
       "    </tr>\n",
       "    <tr>\n",
       "      <th>3</th>\n",
       "      <td>CARLOS SOLTERO</td>\n",
       "      <td>NUNAVUT</td>\n",
       "      <td>NUNAVUT</td>\n",
       "      <td>CONSUMER</td>\n",
       "      <td>4</td>\n",
       "    </tr>\n",
       "    <tr>\n",
       "      <th>4</th>\n",
       "      <td>CARL JACKSON</td>\n",
       "      <td>NUNAVUT</td>\n",
       "      <td>NUNAVUT</td>\n",
       "      <td>CORPORATE</td>\n",
       "      <td>5</td>\n",
       "    </tr>\n",
       "    <tr>\n",
       "      <th>...</th>\n",
       "      <td>...</td>\n",
       "      <td>...</td>\n",
       "      <td>...</td>\n",
       "      <td>...</td>\n",
       "      <td>...</td>\n",
       "    </tr>\n",
       "    <tr>\n",
       "      <th>1827</th>\n",
       "      <td>NICOLE BRENNAN</td>\n",
       "      <td>ALBERTA</td>\n",
       "      <td>WEST</td>\n",
       "      <td>CONSUMER</td>\n",
       "      <td>1828</td>\n",
       "    </tr>\n",
       "    <tr>\n",
       "      <th>1828</th>\n",
       "      <td>JASON FORTUNE</td>\n",
       "      <td>ALBERTA</td>\n",
       "      <td>WEST</td>\n",
       "      <td>CORPORATE</td>\n",
       "      <td>1829</td>\n",
       "    </tr>\n",
       "    <tr>\n",
       "      <th>1829</th>\n",
       "      <td>HARRY GREENE</td>\n",
       "      <td>ALBERTA</td>\n",
       "      <td>WEST</td>\n",
       "      <td>CORPORATE</td>\n",
       "      <td>1830</td>\n",
       "    </tr>\n",
       "    <tr>\n",
       "      <th>1830</th>\n",
       "      <td>GRANT DONATELLI</td>\n",
       "      <td>ALBERTA</td>\n",
       "      <td>WEST</td>\n",
       "      <td>CONSUMER</td>\n",
       "      <td>1831</td>\n",
       "    </tr>\n",
       "    <tr>\n",
       "      <th>1831</th>\n",
       "      <td>MICK BROWN</td>\n",
       "      <td>ALBERTA</td>\n",
       "      <td>WEST</td>\n",
       "      <td>CONSUMER</td>\n",
       "      <td>1832</td>\n",
       "    </tr>\n",
       "  </tbody>\n",
       "</table>\n",
       "<p>1832 rows × 5 columns</p>\n",
       "</div>"
      ],
      "text/plain": [
       "           Customer_Name Province   Region Customer_Segment Cust_id\n",
       "0     MUHAMMED MACINTYRE  NUNAVUT  NUNAVUT   SMALL BUSINESS       1\n",
       "1           BARRY FRENCH  NUNAVUT  NUNAVUT         CONSUMER       2\n",
       "2          CLAY ROZENDAL  NUNAVUT  NUNAVUT        CORPORATE       3\n",
       "3         CARLOS SOLTERO  NUNAVUT  NUNAVUT         CONSUMER       4\n",
       "4           CARL JACKSON  NUNAVUT  NUNAVUT        CORPORATE       5\n",
       "...                  ...      ...      ...              ...     ...\n",
       "1827      NICOLE BRENNAN  ALBERTA     WEST         CONSUMER    1828\n",
       "1828       JASON FORTUNE  ALBERTA     WEST        CORPORATE    1829\n",
       "1829        HARRY GREENE  ALBERTA     WEST        CORPORATE    1830\n",
       "1830     GRANT DONATELLI  ALBERTA     WEST         CONSUMER    1831\n",
       "1831          MICK BROWN  ALBERTA     WEST         CONSUMER    1832\n",
       "\n",
       "[1832 rows x 5 columns]"
      ]
     },
     "execution_count": 161,
     "metadata": {},
     "output_type": "execute_result"
    }
   ],
   "source": [
    "import pandas as pd\n",
    "\n",
    "customer = pd.read_csv('cust_dimen.csv')\n",
    "#customer['Cust_id'] = customer['Cust_id'].replace('Cust_', '', regex=True)\n",
    "customer['Cust_id'] = customer['Cust_id'].apply(lambda x : x[5:])\n",
    "customer"
   ]
  },
  {
   "cell_type": "code",
   "execution_count": 162,
   "id": "7d09a5d7-912f-4202-b255-25c6eeb9dcbf",
   "metadata": {},
   "outputs": [
    {
     "name": "stdout",
     "output_type": "stream",
     "text": [
      "(1254, 5)\n",
      "(105, 5)\n"
     ]
    },
    {
     "data": {
      "text/plain": [
       "(1149, 5)"
      ]
     },
     "execution_count": 162,
     "metadata": {},
     "output_type": "execute_result"
    }
   ],
   "source": [
    "import pandas as pd\n",
    "rating = pd.read_csv('rating_final.csv')\n",
    "print(rating.shape)\n",
    "\n",
    "#find duplicate rows\n",
    "rating_update  = rating[rating.duplicated()]\n",
    "print(rating_update.shape)\n",
    "#drop duplicate rows\n",
    "drop_duplicate = rating.drop_duplicates()\n",
    "drop_duplicate.shape"
   ]
  },
  {
   "cell_type": "code",
   "execution_count": 163,
   "id": "7cae0498-4e6f-4270-9b75-5ad123a4697a",
   "metadata": {},
   "outputs": [],
   "source": [
    "# Numerical and Data Analysis\n",
    "import numpy as np\n",
    "import pandas as pd\n",
    "\n",
    "#Data visualization\n",
    "import seaborn as sns\n",
    "import matplotlib.pyplot as plt\n",
    "\n",
    "# extra - To supress warnings\n",
    "import warnings\n",
    "warnings.filterwarnings('ignore')"
   ]
  },
  {
   "cell_type": "code",
   "execution_count": 164,
   "id": "c1acd610-8597-43de-998d-4c0efbb98b70",
   "metadata": {},
   "outputs": [
    {
     "data": {
      "text/html": [
       "<div>\n",
       "<style scoped>\n",
       "    .dataframe tbody tr th:only-of-type {\n",
       "        vertical-align: middle;\n",
       "    }\n",
       "\n",
       "    .dataframe tbody tr th {\n",
       "        vertical-align: top;\n",
       "    }\n",
       "\n",
       "    .dataframe thead th {\n",
       "        text-align: right;\n",
       "    }\n",
       "</style>\n",
       "<table border=\"1\" class=\"dataframe\">\n",
       "  <thead>\n",
       "    <tr style=\"text-align: right;\">\n",
       "      <th></th>\n",
       "      <th>PassengerId</th>\n",
       "      <th>Survived</th>\n",
       "      <th>Pclass</th>\n",
       "      <th>Name</th>\n",
       "      <th>Sex</th>\n",
       "      <th>Age</th>\n",
       "      <th>SibSp</th>\n",
       "      <th>Parch</th>\n",
       "      <th>Ticket</th>\n",
       "      <th>Fare</th>\n",
       "      <th>Cabin</th>\n",
       "      <th>Embarked</th>\n",
       "    </tr>\n",
       "  </thead>\n",
       "  <tbody>\n",
       "    <tr>\n",
       "      <th>0</th>\n",
       "      <td>1</td>\n",
       "      <td>0</td>\n",
       "      <td>3</td>\n",
       "      <td>Braund, Mr. Owen Harris</td>\n",
       "      <td>male</td>\n",
       "      <td>22.0</td>\n",
       "      <td>1</td>\n",
       "      <td>0</td>\n",
       "      <td>A/5 21171</td>\n",
       "      <td>7.2500</td>\n",
       "      <td>NaN</td>\n",
       "      <td>S</td>\n",
       "    </tr>\n",
       "    <tr>\n",
       "      <th>1</th>\n",
       "      <td>2</td>\n",
       "      <td>1</td>\n",
       "      <td>1</td>\n",
       "      <td>Cumings, Mrs. John Bradley (Florence Briggs Th...</td>\n",
       "      <td>female</td>\n",
       "      <td>38.0</td>\n",
       "      <td>1</td>\n",
       "      <td>0</td>\n",
       "      <td>PC 17599</td>\n",
       "      <td>71.2833</td>\n",
       "      <td>C85</td>\n",
       "      <td>C</td>\n",
       "    </tr>\n",
       "    <tr>\n",
       "      <th>2</th>\n",
       "      <td>3</td>\n",
       "      <td>1</td>\n",
       "      <td>3</td>\n",
       "      <td>Heikkinen, Miss. Laina</td>\n",
       "      <td>female</td>\n",
       "      <td>26.0</td>\n",
       "      <td>0</td>\n",
       "      <td>0</td>\n",
       "      <td>STON/O2. 3101282</td>\n",
       "      <td>7.9250</td>\n",
       "      <td>NaN</td>\n",
       "      <td>S</td>\n",
       "    </tr>\n",
       "    <tr>\n",
       "      <th>3</th>\n",
       "      <td>4</td>\n",
       "      <td>1</td>\n",
       "      <td>1</td>\n",
       "      <td>Futrelle, Mrs. Jacques Heath (Lily May Peel)</td>\n",
       "      <td>female</td>\n",
       "      <td>35.0</td>\n",
       "      <td>1</td>\n",
       "      <td>0</td>\n",
       "      <td>113803</td>\n",
       "      <td>53.1000</td>\n",
       "      <td>C123</td>\n",
       "      <td>S</td>\n",
       "    </tr>\n",
       "    <tr>\n",
       "      <th>4</th>\n",
       "      <td>5</td>\n",
       "      <td>0</td>\n",
       "      <td>3</td>\n",
       "      <td>Allen, Mr. William Henry</td>\n",
       "      <td>male</td>\n",
       "      <td>35.0</td>\n",
       "      <td>0</td>\n",
       "      <td>0</td>\n",
       "      <td>373450</td>\n",
       "      <td>8.0500</td>\n",
       "      <td>NaN</td>\n",
       "      <td>S</td>\n",
       "    </tr>\n",
       "  </tbody>\n",
       "</table>\n",
       "</div>"
      ],
      "text/plain": [
       "   PassengerId  Survived  Pclass  \\\n",
       "0            1         0       3   \n",
       "1            2         1       1   \n",
       "2            3         1       3   \n",
       "3            4         1       1   \n",
       "4            5         0       3   \n",
       "\n",
       "                                                Name     Sex   Age  SibSp  \\\n",
       "0                            Braund, Mr. Owen Harris    male  22.0      1   \n",
       "1  Cumings, Mrs. John Bradley (Florence Briggs Th...  female  38.0      1   \n",
       "2                             Heikkinen, Miss. Laina  female  26.0      0   \n",
       "3       Futrelle, Mrs. Jacques Heath (Lily May Peel)  female  35.0      1   \n",
       "4                           Allen, Mr. William Henry    male  35.0      0   \n",
       "\n",
       "   Parch            Ticket     Fare Cabin Embarked  \n",
       "0      0         A/5 21171   7.2500   NaN        S  \n",
       "1      0          PC 17599  71.2833   C85        C  \n",
       "2      0  STON/O2. 3101282   7.9250   NaN        S  \n",
       "3      0            113803  53.1000  C123        S  \n",
       "4      0            373450   8.0500   NaN        S  "
      ]
     },
     "execution_count": 164,
     "metadata": {},
     "output_type": "execute_result"
    }
   ],
   "source": [
    "df = pd.read_csv('titanic_dataset.csv')\n",
    "df.head()"
   ]
  },
  {
   "cell_type": "code",
   "execution_count": 165,
   "id": "1e37e78e-1d55-4208-b9fd-600e260211aa",
   "metadata": {},
   "outputs": [
    {
     "data": {
      "text/plain": [
       "(891, 12)"
      ]
     },
     "execution_count": 165,
     "metadata": {},
     "output_type": "execute_result"
    }
   ],
   "source": [
    "df.shape"
   ]
  },
  {
   "cell_type": "code",
   "execution_count": 166,
   "id": "43102c56-4090-429c-848b-ca5167980c71",
   "metadata": {},
   "outputs": [
    {
     "data": {
      "text/plain": [
       "Index(['PassengerId', 'Survived', 'Pclass', 'Name', 'Sex', 'Age', 'SibSp',\n",
       "       'Parch', 'Ticket', 'Fare', 'Cabin', 'Embarked'],\n",
       "      dtype='object')"
      ]
     },
     "execution_count": 166,
     "metadata": {},
     "output_type": "execute_result"
    }
   ],
   "source": [
    "df.columns"
   ]
  },
  {
   "cell_type": "code",
   "execution_count": 167,
   "id": "2518bce3-6cc4-447d-8bee-72f8c3544714",
   "metadata": {},
   "outputs": [],
   "source": [
    "# sibsp --> sibling + spouse (passenger travelling with sibling +spouse)\n",
    "#Parch--> Parent + Child(If 2 means travelling with parent & child or both parents)\n",
    "#Embarked --> Boarding Station"
   ]
  },
  {
   "cell_type": "code",
   "execution_count": 168,
   "id": "16f99683-2bd4-44aa-871a-bf58493add1d",
   "metadata": {},
   "outputs": [
    {
     "name": "stdout",
     "output_type": "stream",
     "text": [
      "<class 'pandas.core.frame.DataFrame'>\n",
      "RangeIndex: 891 entries, 0 to 890\n",
      "Data columns (total 12 columns):\n",
      " #   Column       Non-Null Count  Dtype  \n",
      "---  ------       --------------  -----  \n",
      " 0   PassengerId  891 non-null    int64  \n",
      " 1   Survived     891 non-null    int64  \n",
      " 2   Pclass       891 non-null    int64  \n",
      " 3   Name         891 non-null    object \n",
      " 4   Sex          891 non-null    object \n",
      " 5   Age          714 non-null    float64\n",
      " 6   SibSp        891 non-null    int64  \n",
      " 7   Parch        891 non-null    int64  \n",
      " 8   Ticket       891 non-null    object \n",
      " 9   Fare         891 non-null    float64\n",
      " 10  Cabin        204 non-null    object \n",
      " 11  Embarked     889 non-null    object \n",
      "dtypes: float64(2), int64(5), object(5)\n",
      "memory usage: 83.7+ KB\n"
     ]
    }
   ],
   "source": [
    "df.info()"
   ]
  },
  {
   "cell_type": "markdown",
   "id": "b65af9b1-ec9b-499c-bbe3-0c7fd750ff47",
   "metadata": {},
   "source": [
    "### Missing Value Check"
   ]
  },
  {
   "cell_type": "code",
   "execution_count": 169,
   "id": "bdf014b0-6ada-4a42-8982-3921d7b599c9",
   "metadata": {},
   "outputs": [
    {
     "data": {
      "text/plain": [
       "PassengerId     0.000000\n",
       "Survived        0.000000\n",
       "Pclass          0.000000\n",
       "Name            0.000000\n",
       "Sex             0.000000\n",
       "Age            19.865320\n",
       "SibSp           0.000000\n",
       "Parch           0.000000\n",
       "Ticket          0.000000\n",
       "Fare            0.000000\n",
       "Cabin          77.104377\n",
       "Embarked        0.224467\n",
       "dtype: float64"
      ]
     },
     "execution_count": 169,
     "metadata": {},
     "output_type": "execute_result"
    }
   ],
   "source": [
    "# Percentage of missing values\n",
    "#Identification of Missing values\n",
    "100*df.isnull().mean() #preferred to use % of missing values\n",
    "#df.isnull().sum() # gives count"
   ]
  },
  {
   "cell_type": "markdown",
   "id": "4cd37214-d3a3-4da9-853f-b6ce975558de",
   "metadata": {},
   "source": [
    "##### cabin --> very high % of missing -->Prefer to exclude the column from the analysis\n",
    "##### Age --> Medium % of missing --> Impute with mean/median/mode\n",
    "##### Embarked --> Verylow % of missing --> Imputation or exclude rows with missing values\n",
    "\n",
    "#####Numiracl column --> Mean/Median\n",
    "#####Categorical Column --> Mode\n",
    "###### Any column having hig %(generally > 40%) should not consider for analysis"
   ]
  },
  {
   "cell_type": "code",
   "execution_count": 170,
   "id": "d972a35e-76cb-407d-8fca-6463589cdd6f",
   "metadata": {},
   "outputs": [],
   "source": [
    "df1 = df.drop('Cabin',axis=1)\n",
    "100*df1.isnull().mean()\n",
    "## If mean and median very for from each other use median,but if mean ,median close use mean\n",
    "df1[\"Age\"].mean(),df1['Age'].median()\n",
    "med=df1[\"Age\"].median()\n",
    "df1[\"Age\"]=df1[\"Age\"].fillna(med)"
   ]
  },
  {
   "cell_type": "code",
   "execution_count": 171,
   "id": "e0281570-f7da-430d-8a35-c2d5ab744071",
   "metadata": {},
   "outputs": [
    {
     "data": {
      "text/plain": [
       "PassengerId    0.000000\n",
       "Survived       0.000000\n",
       "Pclass         0.000000\n",
       "Name           0.000000\n",
       "Sex            0.000000\n",
       "Age            0.000000\n",
       "SibSp          0.000000\n",
       "Parch          0.000000\n",
       "Ticket         0.000000\n",
       "Fare           0.000000\n",
       "Embarked       0.224467\n",
       "dtype: float64"
      ]
     },
     "execution_count": 171,
     "metadata": {},
     "output_type": "execute_result"
    }
   ],
   "source": [
    "100*df1.isnull().mean()"
   ]
  },
  {
   "cell_type": "code",
   "execution_count": 172,
   "id": "4d988858-d001-4ca7-9023-4b0306c14b24",
   "metadata": {},
   "outputs": [
    {
     "data": {
      "text/plain": [
       "PassengerId    0.0\n",
       "Survived       0.0\n",
       "Pclass         0.0\n",
       "Name           0.0\n",
       "Sex            0.0\n",
       "Age            0.0\n",
       "SibSp          0.0\n",
       "Parch          0.0\n",
       "Ticket         0.0\n",
       "Fare           0.0\n",
       "Embarked       0.0\n",
       "dtype: float64"
      ]
     },
     "execution_count": 172,
     "metadata": {},
     "output_type": "execute_result"
    }
   ],
   "source": [
    "df2 = df1[df1[\"Embarked\"].notna()]# exclude null rows\n",
    "100*df2.isnull().mean()"
   ]
  },
  {
   "cell_type": "code",
   "execution_count": 173,
   "id": "aa2fd77a-ba0d-4eb9-9269-cb1e4c019997",
   "metadata": {},
   "outputs": [
    {
     "data": {
      "text/plain": [
       "Index(['PassengerId', 'Survived', 'Pclass', 'Name', 'Sex', 'Age', 'SibSp',\n",
       "       'Parch', 'Ticket', 'Fare', 'Embarked'],\n",
       "      dtype='object')"
      ]
     },
     "execution_count": 173,
     "metadata": {},
     "output_type": "execute_result"
    }
   ],
   "source": [
    "df2.columns"
   ]
  },
  {
   "cell_type": "code",
   "execution_count": 174,
   "id": "b2b79a6f-db19-4971-bf7a-fd1e379221f3",
   "metadata": {},
   "outputs": [
    {
     "data": {
      "text/plain": [
       "(7, 7)"
      ]
     },
     "execution_count": 174,
     "metadata": {},
     "output_type": "execute_result"
    }
   ],
   "source": [
    "df2[\"SibSp\"].nunique(),df2[\"Parch\"].nunique() # less unquine numbers so condider catogrical columns"
   ]
  },
  {
   "cell_type": "code",
   "execution_count": 175,
   "id": "d3975c4f-a2b7-4211-a0d0-2c72b4bda669",
   "metadata": {},
   "outputs": [
    {
     "data": {
      "text/plain": [
       "11"
      ]
     },
     "execution_count": 175,
     "metadata": {},
     "output_type": "execute_result"
    }
   ],
   "source": [
    "num_cols=[\"Age\",\"Fare\"]\n",
    "cat_clos=[\"Survived\",\"Pclass\",\"Sex\",\"SibSp\",\"Parch\",\"Embarked\"]\n",
    "extra_cols=[\"PassengerId\",\"Name\",\"Ticket\"]\n",
    "len(num_cols)+len(cat_clos)+len(extra_cols)"
   ]
  },
  {
   "cell_type": "code",
   "execution_count": 176,
   "id": "6da0b19c-83d1-43d5-b4e9-e0ab6d80b7cd",
   "metadata": {},
   "outputs": [
    {
     "data": {
      "text/plain": [
       "(889, 11)"
      ]
     },
     "execution_count": 176,
     "metadata": {},
     "output_type": "execute_result"
    }
   ],
   "source": [
    "df2.shape"
   ]
  },
  {
   "cell_type": "code",
   "execution_count": null,
   "id": "937d4fec-b29a-4ab8-9a87-c80b8e1bc82a",
   "metadata": {},
   "outputs": [],
   "source": []
  },
  {
   "cell_type": "markdown",
   "id": "14c64451-abfd-4144-b606-f078850cd827",
   "metadata": {},
   "source": [
    "### Univariate Analysis"
   ]
  },
  {
   "cell_type": "markdown",
   "id": "50e72725-2c48-45af-9207-389649330bb7",
   "metadata": {},
   "source": [
    "### Categorical"
   ]
  },
  {
   "cell_type": "code",
   "execution_count": 177,
   "id": "c43690b9-b10a-41f1-968b-4c95e24a3bd9",
   "metadata": {},
   "outputs": [
    {
     "data": {
      "image/png": "[encoded data removed]",
      "text/plain": [
       "<Figure size 640x480 with 1 Axes>"
      ]
     },
     "metadata": {},
     "output_type": "display_data"
    },
    {
     "data": {
      "image/png": "[encoded data removed]",
      "text/plain": [
       "<Figure size 640x480 with 1 Axes>"
      ]
     },
     "metadata": {},
     "output_type": "display_data"
    },
    {
     "data": {
      "image/png": "[encoded data removed]",
      "text/plain": [
       "<Figure size 640x480 with 1 Axes>"
      ]
     },
     "metadata": {},
     "output_type": "display_data"
    },
    {
     "data": {
      "image/png": "[encoded data removed]",
      "text/plain": [
       "<Figure size 640x480 with 1 Axes>"
      ]
     },
     "metadata": {},
     "output_type": "display_data"
    },
    {
     "data": {
      "image/png": "[encoded data removed]",
      "text/plain": [
       "<Figure size 640x480 with 1 Axes>"
      ]
     },
     "metadata": {},
     "output_type": "display_data"
    },
    {
     "data": {
      "image/png": "[encoded data removed]",
      "text/plain": [
       "<Figure size 640x480 with 1 Axes>"
      ]
     },
     "metadata": {},
     "output_type": "display_data"
    }
   ],
   "source": [
    "# univariate means analysis with single value\n",
    "for col in cat_clos:\n",
    "    sns.countplot(x=df2[col])\n",
    "    plt.show()"
   ]
  },
  {
   "cell_type": "markdown",
   "id": "3bfd26dc-7d82-4ae6-9f48-55e727455235",
   "metadata": {},
   "source": [
    "#### Numerical"
   ]
  },
  {
   "cell_type": "code",
   "execution_count": 178,
   "id": "684181dd-2719-4b44-b8c3-bac08a85095c",
   "metadata": {},
   "outputs": [
    {
     "data": {
      "image/png": "[encoded data removed]",
      "text/plain": [
       "<Figure size 640x480 with 1 Axes>"
      ]
     },
     "metadata": {},
     "output_type": "display_data"
    },
    {
     "data": {
      "image/png": "[encoded data removed]",
      "text/plain": [
       "<Figure size 640x480 with 1 Axes>"
      ]
     },
     "metadata": {},
     "output_type": "display_data"
    }
   ],
   "source": [
    "for col in num_cols:\n",
    "    sns.histplot(x=df2[col])\n",
    "    plt.show()"
   ]
  },
  {
   "cell_type": "code",
   "execution_count": 179,
   "id": "c0c0a8f8-05bb-4037-80a2-bbfd790fb001",
   "metadata": {},
   "outputs": [
    {
     "data": {
      "image/png": "[encoded data removed]",
      "text/plain": [
       "<Figure size 640x480 with 1 Axes>"
      ]
     },
     "metadata": {},
     "output_type": "display_data"
    },
    {
     "data": {
      "image/png": "[encoded data removed]",
      "text/plain": [
       "<Figure size 640x480 with 1 Axes>"
      ]
     },
     "metadata": {},
     "output_type": "display_data"
    }
   ],
   "source": [
    "for col in num_cols:\n",
    "    sns.boxplot(x=df2[col])\n",
    "    plt.show()\n",
    "\n",
    "## Upper whisker : Q3+1.5*(Q3-Q1)\n",
    "## Lower Whisker : Q1-1.58(Q3-Q1)\n",
    "## IQR : Q3-Q1"
   ]
  },
  {
   "cell_type": "markdown",
   "id": "11ec45da-fe36-4503-a974-bbe2f8463112",
   "metadata": {},
   "source": [
    "### Bivariate Analysis"
   ]
  },
  {
   "cell_type": "markdown",
   "id": "d57be2e7-c6f0-47aa-a792-eebec941f862",
   "metadata": {},
   "source": [
    "##### two variable analysis\n",
    "##### Numiracl Vs Numerical\n",
    "\n",
    "##### scatter plot use of numrical columns"
   ]
  },
  {
   "cell_type": "code",
   "execution_count": 180,
   "id": "a30c9502-3a2f-425a-b3ff-b85dc87fc868",
   "metadata": {},
   "outputs": [
    {
     "data": {
      "image/png": "[encoded data removed]",
      "text/plain": [
       "<Figure size 640x480 with 1 Axes>"
      ]
     },
     "metadata": {},
     "output_type": "display_data"
    }
   ],
   "source": [
    "sns.scatterplot(x=df2[\"Age\"],y=df2[\"Fare\"])\n",
    "plt.show()"
   ]
  },
  {
   "cell_type": "code",
   "execution_count": 181,
   "id": "988fd01c-c531-4874-8f61-766409eb98d6",
   "metadata": {},
   "outputs": [],
   "source": [
    "# Positve Releationship --> if x1 is increasing x2 also increasing\n",
    "# Negative Releationship --> If x1 is increasing x2 decreasing\n",
    "# No Releationship --> Id=f x1 & x2 have no releationship"
   ]
  },
  {
   "cell_type": "markdown",
   "id": "e09756c4-5316-4de3-9a14-f9c89f415cf6",
   "metadata": {},
   "source": [
    "### Numerical Vs Categorical"
   ]
  },
  {
   "cell_type": "code",
   "execution_count": 182,
   "id": "3b9eda87-addc-474d-8b42-69f02bff5eda",
   "metadata": {},
   "outputs": [
    {
     "data": {
      "image/png": "[encoded data removed]",
      "text/plain": [
       "<Figure size 640x480 with 1 Axes>"
      ]
     },
     "metadata": {},
     "output_type": "display_data"
    }
   ],
   "source": [
    "sns.boxplot(x=df2['Survived'],y=df2['Age'])\n",
    "plt.show()"
   ]
  },
  {
   "cell_type": "code",
   "execution_count": 183,
   "id": "264be809-5e25-44cd-be99-2d00260b0787",
   "metadata": {},
   "outputs": [
    {
     "data": {
      "image/png": "[encoded data removed]",
      "text/plain": [
       "<Figure size 640x480 with 1 Axes>"
      ]
     },
     "metadata": {},
     "output_type": "display_data"
    },
    {
     "data": {
      "image/png": "[encoded data removed]",
      "text/plain": [
       "<Figure size 640x480 with 1 Axes>"
      ]
     },
     "metadata": {},
     "output_type": "display_data"
    },
    {
     "data": {
      "image/png": "[encoded data removed]",
      "text/plain": [
       "<Figure size 640x480 with 1 Axes>"
      ]
     },
     "metadata": {},
     "output_type": "display_data"
    },
    {
     "data": {
      "image/png": "[encoded data removed]",
      "text/plain": [
       "<Figure size 640x480 with 1 Axes>"
      ]
     },
     "metadata": {},
     "output_type": "display_data"
    },
    {
     "data": {
      "image/png": "[encoded data removed]",
      "text/plain": [
       "<Figure size 640x480 with 1 Axes>"
      ]
     },
     "metadata": {},
     "output_type": "display_data"
    },
    {
     "data": {
      "image/png": "[encoded data removed]",
      "text/plain": [
       "<Figure size 640x480 with 1 Axes>"
      ]
     },
     "metadata": {},
     "output_type": "display_data"
    },
    {
     "data": {
      "image/png": "[encoded data removed]",
      "text/plain": [
       "<Figure size 640x480 with 1 Axes>"
      ]
     },
     "metadata": {},
     "output_type": "display_data"
    },
    {
     "data": {
      "image/png": "[encoded data removed]",
      "text/plain": [
       "<Figure size 640x480 with 1 Axes>"
      ]
     },
     "metadata": {},
     "output_type": "display_data"
    },
    {
     "data": {
      "image/png": "[encoded data removed]",
      "text/plain": [
       "<Figure size 640x480 with 1 Axes>"
      ]
     },
     "metadata": {},
     "output_type": "display_data"
    },
    {
     "data": {
      "image/png": "[encoded data removed]",
      "text/plain": [
       "<Figure size 640x480 with 1 Axes>"
      ]
     },
     "metadata": {},
     "output_type": "display_data"
    },
    {
     "data": {
      "image/png": "[encoded data removed]",
      "text/plain": [
       "<Figure size 640x480 with 1 Axes>"
      ]
     },
     "metadata": {},
     "output_type": "display_data"
    },
    {
     "data": {
      "image/png": "[encoded data removed]",
      "text/plain": [
       "<Figure size 640x480 with 1 Axes>"
      ]
     },
     "metadata": {},
     "output_type": "display_data"
    }
   ],
   "source": [
    "for col1 in cat_clos:\n",
    "    for col2 in num_cols:\n",
    "        sns.boxplot(x=df2[col1],y=df2[col2])\n",
    "        plt.show()"
   ]
  },
  {
   "cell_type": "markdown",
   "id": "362c2079-aa30-4daa-8455-9a9b6e89b2c9",
   "metadata": {},
   "source": [
    "### Multivariate Analysis\n",
    "##### most popular heat map(only numerical coumns)"
   ]
  },
  {
   "cell_type": "code",
   "execution_count": 184,
   "id": "5711eba0-5c8d-4899-9204-124ab68502c2",
   "metadata": {},
   "outputs": [
    {
     "data": {
      "image/png": "[encoded data removed]",
      "text/plain": [
       "<Figure size 640x480 with 2 Axes>"
      ]
     },
     "metadata": {},
     "output_type": "display_data"
    }
   ],
   "source": [
    "sns.heatmap(df2[num_cols].corr(),annot=True)\n",
    "plt.show()\n",
    "\n",
    "## Correlation represents strength of relationship between variables\n",
    "## Correlation lies in the range of -1 to 1 \n",
    "## Negative correlation (0 to -1) shows inverse relationship \n",
    "## Positive correlation (0 to 1) shows direct relationship \n",
    "## 0 correlation represents no relationship.\n",
    "## annot for better readbility"
   ]
  },
  {
   "cell_type": "code",
   "execution_count": 185,
   "id": "51eff511-77d9-41d1-9eca-c474abf1491e",
   "metadata": {},
   "outputs": [],
   "source": [
    "## H/W\n",
    "## Cat Vs Cat (Bivariate)"
   ]
  },
  {
   "cell_type": "markdown",
   "id": "a29906d7-a952-43a9-a5e8-8677c358624e",
   "metadata": {},
   "source": [
    "### Tendulkar's ODI batting analysis"
   ]
  },
  {
   "cell_type": "code",
   "execution_count": 186,
   "id": "186197b7-a595-4174-afa8-d05dda105f94",
   "metadata": {},
   "outputs": [],
   "source": [
    "# Numerical and Data Analysis\n",
    "import numpy as np\n",
    "import pandas as pd\n",
    "\n",
    "#Data visualization\n",
    "import seaborn as sns\n",
    "import matplotlib.pyplot as plt\n",
    "\n",
    "# extra - To supress warnings\n",
    "import warnings\n",
    "warnings.filterwarnings('ignore')"
   ]
  },
  {
   "cell_type": "code",
   "execution_count": 187,
   "id": "1d2fbd3d-2854-4d64-8018-0b2a292c1a82",
   "metadata": {},
   "outputs": [
    {
     "data": {
      "text/html": [
       "<div>\n",
       "<style scoped>\n",
       "    .dataframe tbody tr th:only-of-type {\n",
       "        vertical-align: middle;\n",
       "    }\n",
       "\n",
       "    .dataframe tbody tr th {\n",
       "        vertical-align: top;\n",
       "    }\n",
       "\n",
       "    .dataframe thead th {\n",
       "        text-align: right;\n",
       "    }\n",
       "</style>\n",
       "<table border=\"1\" class=\"dataframe\">\n",
       "  <thead>\n",
       "    <tr style=\"text-align: right;\">\n",
       "      <th></th>\n",
       "      <th>Unnamed: 0</th>\n",
       "      <th>Runs</th>\n",
       "      <th>Mins</th>\n",
       "      <th>BF</th>\n",
       "      <th>4s</th>\n",
       "      <th>6s</th>\n",
       "      <th>SR</th>\n",
       "      <th>Pos</th>\n",
       "      <th>Dismissal</th>\n",
       "      <th>Inns</th>\n",
       "      <th>Opposition</th>\n",
       "      <th>Ground</th>\n",
       "      <th>Start Date</th>\n",
       "    </tr>\n",
       "  </thead>\n",
       "  <tbody>\n",
       "    <tr>\n",
       "      <th>0</th>\n",
       "      <td>1</td>\n",
       "      <td>0</td>\n",
       "      <td>-</td>\n",
       "      <td>2</td>\n",
       "      <td>0</td>\n",
       "      <td>0</td>\n",
       "      <td>0</td>\n",
       "      <td>5</td>\n",
       "      <td>caught</td>\n",
       "      <td>2</td>\n",
       "      <td>v Pakistan</td>\n",
       "      <td>Gujranwala</td>\n",
       "      <td>18-Dec-89</td>\n",
       "    </tr>\n",
       "    <tr>\n",
       "      <th>1</th>\n",
       "      <td>2</td>\n",
       "      <td>0</td>\n",
       "      <td>2</td>\n",
       "      <td>2</td>\n",
       "      <td>0</td>\n",
       "      <td>0</td>\n",
       "      <td>0</td>\n",
       "      <td>5</td>\n",
       "      <td>caught</td>\n",
       "      <td>2</td>\n",
       "      <td>v New Zealand</td>\n",
       "      <td>Dunedin</td>\n",
       "      <td>1-Mar-90</td>\n",
       "    </tr>\n",
       "    <tr>\n",
       "      <th>2</th>\n",
       "      <td>3</td>\n",
       "      <td>36</td>\n",
       "      <td>51</td>\n",
       "      <td>39</td>\n",
       "      <td>5</td>\n",
       "      <td>0</td>\n",
       "      <td>92.3</td>\n",
       "      <td>6</td>\n",
       "      <td>caught</td>\n",
       "      <td>1</td>\n",
       "      <td>v New Zealand</td>\n",
       "      <td>Wellington</td>\n",
       "      <td>6-Mar-90</td>\n",
       "    </tr>\n",
       "    <tr>\n",
       "      <th>3</th>\n",
       "      <td>4</td>\n",
       "      <td>19</td>\n",
       "      <td>38</td>\n",
       "      <td>35</td>\n",
       "      <td>1</td>\n",
       "      <td>1</td>\n",
       "      <td>54.28</td>\n",
       "      <td>4</td>\n",
       "      <td>bowled</td>\n",
       "      <td>2</td>\n",
       "      <td>v England</td>\n",
       "      <td>Leeds</td>\n",
       "      <td>18-Jul-90</td>\n",
       "    </tr>\n",
       "    <tr>\n",
       "      <th>4</th>\n",
       "      <td>5</td>\n",
       "      <td>31</td>\n",
       "      <td>31</td>\n",
       "      <td>26</td>\n",
       "      <td>3</td>\n",
       "      <td>0</td>\n",
       "      <td>119.23</td>\n",
       "      <td>6</td>\n",
       "      <td>bowled</td>\n",
       "      <td>2</td>\n",
       "      <td>v England</td>\n",
       "      <td>Nottingham</td>\n",
       "      <td>20-Jul-90</td>\n",
       "    </tr>\n",
       "    <tr>\n",
       "      <th>...</th>\n",
       "      <td>...</td>\n",
       "      <td>...</td>\n",
       "      <td>...</td>\n",
       "      <td>...</td>\n",
       "      <td>...</td>\n",
       "      <td>...</td>\n",
       "      <td>...</td>\n",
       "      <td>...</td>\n",
       "      <td>...</td>\n",
       "      <td>...</td>\n",
       "      <td>...</td>\n",
       "      <td>...</td>\n",
       "      <td>...</td>\n",
       "    </tr>\n",
       "    <tr>\n",
       "      <th>290</th>\n",
       "      <td>291</td>\n",
       "      <td>18</td>\n",
       "      <td>21</td>\n",
       "      <td>14</td>\n",
       "      <td>2</td>\n",
       "      <td>0</td>\n",
       "      <td>128.57</td>\n",
       "      <td>2</td>\n",
       "      <td>caught</td>\n",
       "      <td>2</td>\n",
       "      <td>v Sri Lanka</td>\n",
       "      <td>Mumbai</td>\n",
       "      <td>2-Apr-11</td>\n",
       "    </tr>\n",
       "    <tr>\n",
       "      <th>291</th>\n",
       "      <td>292</td>\n",
       "      <td>2</td>\n",
       "      <td>9</td>\n",
       "      <td>6</td>\n",
       "      <td>0</td>\n",
       "      <td>0</td>\n",
       "      <td>33.33</td>\n",
       "      <td>2</td>\n",
       "      <td>caught</td>\n",
       "      <td>2</td>\n",
       "      <td>v Australia</td>\n",
       "      <td>Melbourne</td>\n",
       "      <td>5-Feb-12</td>\n",
       "    </tr>\n",
       "    <tr>\n",
       "      <th>292</th>\n",
       "      <td>293</td>\n",
       "      <td>3</td>\n",
       "      <td>21</td>\n",
       "      <td>12</td>\n",
       "      <td>0</td>\n",
       "      <td>0</td>\n",
       "      <td>25</td>\n",
       "      <td>2</td>\n",
       "      <td>caught</td>\n",
       "      <td>2</td>\n",
       "      <td>v Australia</td>\n",
       "      <td>Brisbane</td>\n",
       "      <td>19-Feb-12</td>\n",
       "    </tr>\n",
       "    <tr>\n",
       "      <th>293</th>\n",
       "      <td>294</td>\n",
       "      <td>14</td>\n",
       "      <td>34</td>\n",
       "      <td>15</td>\n",
       "      <td>2</td>\n",
       "      <td>0</td>\n",
       "      <td>93.33</td>\n",
       "      <td>2</td>\n",
       "      <td>run out</td>\n",
       "      <td>2</td>\n",
       "      <td>v Australia</td>\n",
       "      <td>Sydney</td>\n",
       "      <td>26-Feb-12</td>\n",
       "    </tr>\n",
       "    <tr>\n",
       "      <th>294</th>\n",
       "      <td>295</td>\n",
       "      <td>114</td>\n",
       "      <td>205</td>\n",
       "      <td>147</td>\n",
       "      <td>12</td>\n",
       "      <td>1</td>\n",
       "      <td>77.55</td>\n",
       "      <td>2</td>\n",
       "      <td>caught</td>\n",
       "      <td>1</td>\n",
       "      <td>v Bangladesh</td>\n",
       "      <td>Dhaka</td>\n",
       "      <td>16-Mar-12</td>\n",
       "    </tr>\n",
       "  </tbody>\n",
       "</table>\n",
       "<p>295 rows × 13 columns</p>\n",
       "</div>"
      ],
      "text/plain": [
       "     Unnamed: 0 Runs Mins   BF  4s 6s      SR Pos Dismissal Inns  \\\n",
       "0             1    0    -    2   0  0       0   5    caught    2   \n",
       "1             2    0    2    2   0  0       0   5    caught    2   \n",
       "2             3   36   51   39   5  0    92.3   6    caught    1   \n",
       "3             4   19   38   35   1  1   54.28   4    bowled    2   \n",
       "4             5   31   31   26   3  0  119.23   6    bowled    2   \n",
       "..          ...  ...  ...  ...  .. ..     ...  ..       ...  ...   \n",
       "290         291   18   21   14   2  0  128.57   2    caught    2   \n",
       "291         292    2    9    6   0  0   33.33   2    caught    2   \n",
       "292         293    3   21   12   0  0      25   2    caught    2   \n",
       "293         294   14   34   15   2  0   93.33   2   run out    2   \n",
       "294         295  114  205  147  12  1   77.55   2    caught    1   \n",
       "\n",
       "        Opposition      Ground Start Date  \n",
       "0       v Pakistan  Gujranwala  18-Dec-89  \n",
       "1    v New Zealand     Dunedin   1-Mar-90  \n",
       "2    v New Zealand  Wellington   6-Mar-90  \n",
       "3        v England       Leeds  18-Jul-90  \n",
       "4        v England  Nottingham  20-Jul-90  \n",
       "..             ...         ...        ...  \n",
       "290    v Sri Lanka      Mumbai   2-Apr-11  \n",
       "291    v Australia   Melbourne   5-Feb-12  \n",
       "292    v Australia    Brisbane  19-Feb-12  \n",
       "293    v Australia      Sydney  26-Feb-12  \n",
       "294   v Bangladesh       Dhaka  16-Mar-12  \n",
       "\n",
       "[295 rows x 13 columns]"
      ]
     },
     "execution_count": 187,
     "metadata": {},
     "output_type": "execute_result"
    }
   ],
   "source": [
    "st = pd.read_csv('tendulkar_ODI.csv')\n",
    "st"
   ]
  },
  {
   "cell_type": "code",
   "execution_count": 188,
   "id": "bc44a99e-ca4d-4c3b-99b5-f0963d9f048b",
   "metadata": {},
   "outputs": [
    {
     "data": {
      "text/plain": [
       "0"
      ]
     },
     "execution_count": 188,
     "metadata": {},
     "output_type": "execute_result"
    }
   ],
   "source": [
    "#Plot a bar chart showing runs scored on the x-axis and frequency/count on the y-axis. In which bucket has he scored runs the most often?\n",
    "st.Runs.isnull().sum()"
   ]
  },
  {
   "cell_type": "code",
   "execution_count": 189,
   "id": "f447df66-8776-41a2-9593-e237a21fccbf",
   "metadata": {},
   "outputs": [
    {
     "name": "stdout",
     "output_type": "stream",
     "text": [
      "(295, 13)\n",
      "(292, 13)\n"
     ]
    }
   ],
   "source": [
    "st['Runs'].value_counts()\n",
    "#st['Runs'] = st['Runs'].apply(lambda x : x[:-1])\n",
    "st['Runs'] = st['Runs'].str.replace('*', '', regex=False)\n",
    "print(st.shape)\n",
    "st1 = st[~st['Runs'].isin(['DNB', 'TDNB'])]\n",
    "print(st1.shape)"
   ]
  },
  {
   "cell_type": "code",
   "execution_count": 190,
   "id": "990abd30-252f-4c84-a95e-cc5cec6f1bb2",
   "metadata": {},
   "outputs": [
    {
     "data": {
      "text/plain": [
       "dtype('int64')"
      ]
     },
     "execution_count": 190,
     "metadata": {},
     "output_type": "execute_result"
    }
   ],
   "source": [
    "st1.Runs = pd.to_numeric(st1['Runs'])\n",
    "st1.Runs.dtype"
   ]
  },
  {
   "cell_type": "code",
   "execution_count": 191,
   "id": "ed575e1d-4d3e-4c13-88b0-cde59918990a",
   "metadata": {},
   "outputs": [
    {
     "data": {
      "image/png": "[encoded data removed]",
      "text/plain": [
       "<Figure size 1000x600 with 1 Axes>"
      ]
     },
     "metadata": {},
     "output_type": "display_data"
    }
   ],
   "source": [
    "\n",
    "# Define bins and labels\n",
    "bins = [0, 10, 20, 30, 40, 50,60,70,80,180,200,220]\n",
    "labels = ['0-10', '10-20', '20-30', '30-40', '40-50','100-120','120-140','140-160','160-180','180-200','200-220']\n",
    "\n",
    "# Create a new column with binned data\n",
    "st1['run_range'] = pd.cut(st1['Runs'], bins=bins, labels=labels, right=False)\n",
    "\n",
    "# Create the count plot\n",
    "plt.figure(figsize=(10, 6))\n",
    "sns.countplot(data=st1, x='run_range')\n",
    "\n",
    "# Add labels and title\n",
    "plt.xlabel('Run Ranges')\n",
    "plt.ylabel('Count')\n",
    "plt.title('Count of Runs in Specified Ranges')\n",
    "\n",
    "# Show the plot\n",
    "plt.show()\n"
   ]
  },
  {
   "cell_type": "code",
   "execution_count": 192,
   "id": "18940aa5-fafc-4e48-9662-bc1b5c8105e6",
   "metadata": {},
   "outputs": [
    {
     "data": {
      "text/plain": [
       "0"
      ]
     },
     "execution_count": 192,
     "metadata": {},
     "output_type": "execute_result"
    }
   ],
   "source": [
    "#Plot a histogram of the number of 4s hit by Tendulkar. What is the most common value of the variable X, where X represents the number of 4s hit by him?\n",
    "st1['4s'].isnull().sum()"
   ]
  },
  {
   "cell_type": "code",
   "execution_count": 193,
   "id": "aa8debf9-4886-4b5d-a77d-1f5238d1d0f2",
   "metadata": {},
   "outputs": [
    {
     "data": {
      "image/png": "[encoded data removed]",
      "text/plain": [
       "<Figure size 640x480 with 1 Axes>"
      ]
     },
     "metadata": {},
     "output_type": "display_data"
    }
   ],
   "source": [
    "sns.histplot(data=st1, x='4s')\n",
    "plt.show()"
   ]
  },
  {
   "cell_type": "code",
   "execution_count": 194,
   "id": "c2e25c42-1b01-452f-be0e-92a6c20c56e1",
   "metadata": {},
   "outputs": [
    {
     "name": "stdout",
     "output_type": "stream",
     "text": [
      "3395.3801836343455\n",
      "1400.0\n",
      "count     39644.000000\n",
      "mean       3395.380184\n",
      "std       11626.950749\n",
      "min           1.000000\n",
      "25%         946.000000\n",
      "50%        1400.000000\n",
      "75%        2800.000000\n",
      "max      843300.000000\n",
      "Name:  shares, dtype: float64\n"
     ]
    }
   ],
   "source": [
    "news = pd.read_csv(\"popularity.csv\")\n",
    "news.head()\n",
    "news.columns\n",
    "#news[' num_keywords'].mode()\n",
    "print(news[' shares'].mean())\n",
    "print(news[' shares'].median())\n",
    "print(news[' shares'].describe())"
   ]
  },
  {
   "cell_type": "markdown",
   "id": "261becdf-02f8-4a80-b5f5-718d23f3c64a",
   "metadata": {},
   "source": [
    "### Graded Questions"
   ]
  },
  {
   "cell_type": "code",
   "execution_count": 195,
   "id": "eaa53324-9bdf-4e4f-a00b-e6793620999d",
   "metadata": {},
   "outputs": [
    {
     "data": {
      "text/plain": [
       "Index(['url', ' timedelta', ' n_tokens_title', ' n_tokens_content',\n",
       "       ' n_unique_tokens', ' n_non_stop_words', ' n_non_stop_unique_tokens',\n",
       "       ' num_hrefs', ' num_self_hrefs', ' num_imgs', ' num_videos',\n",
       "       ' average_token_length', ' num_keywords', ' data_channel_is_lifestyle',\n",
       "       ' data_channel_is_entertainment', ' data_channel_is_bus',\n",
       "       ' data_channel_is_socmed', ' data_channel_is_tech',\n",
       "       ' data_channel_is_world', ' kw_min_min', ' kw_max_min', ' kw_avg_min',\n",
       "       ' kw_min_max', ' kw_max_max', ' kw_avg_max', ' kw_min_avg',\n",
       "       ' kw_max_avg', ' kw_avg_avg', ' self_reference_min_shares',\n",
       "       ' self_reference_max_shares', ' self_reference_avg_sharess',\n",
       "       ' weekday_is_monday', ' weekday_is_tuesday', ' weekday_is_wednesday',\n",
       "       ' weekday_is_thursday', ' weekday_is_friday', ' weekday_is_saturday',\n",
       "       ' weekday_is_sunday', ' is_weekend', ' LDA_00', ' LDA_01', ' LDA_02',\n",
       "       ' LDA_03', ' LDA_04', ' global_subjectivity',\n",
       "       ' global_sentiment_polarity', ' global_rate_positive_words',\n",
       "       ' global_rate_negative_words', ' rate_positive_words',\n",
       "       ' rate_negative_words', ' avg_positive_polarity',\n",
       "       ' min_positive_polarity', ' max_positive_polarity',\n",
       "       ' avg_negative_polarity', ' min_negative_polarity',\n",
       "       ' max_negative_polarity', ' title_subjectivity',\n",
       "       ' title_sentiment_polarity', ' abs_title_subjectivity',\n",
       "       ' abs_title_sentiment_polarity', ' shares'],\n",
       "      dtype='object')"
      ]
     },
     "execution_count": 195,
     "metadata": {},
     "output_type": "execute_result"
    }
   ],
   "source": [
    "news1 = pd.read_csv('popularity.csv')\n",
    "news1.head()\n",
    "news1.columns"
   ]
  },
  {
   "cell_type": "code",
   "execution_count": 196,
   "id": "8c8c74fa-c08e-4da5-81dd-a69c56a428a5",
   "metadata": {},
   "outputs": [
    {
     "data": {
      "text/plain": [
       "count     39644.000000\n",
       "mean       3395.380184\n",
       "std       11626.950749\n",
       "min           1.000000\n",
       "25%         946.000000\n",
       "50%        1400.000000\n",
       "75%        2800.000000\n",
       "max      843300.000000\n",
       "Name:  shares, dtype: float64"
      ]
     },
     "execution_count": 196,
     "metadata": {},
     "output_type": "execute_result"
    }
   ],
   "source": [
    "news1[' shares'].describe()"
   ]
  },
  {
   "cell_type": "code",
   "execution_count": 197,
   "id": "1a531319-79ac-440d-b47e-f21fb4b9e1e6",
   "metadata": {},
   "outputs": [
    {
     "data": {
      "text/plain": [
       "3400.0"
      ]
     },
     "execution_count": 197,
     "metadata": {},
     "output_type": "execute_result"
    }
   ],
   "source": [
    "## find specific % how many shares lies \n",
    "news1[' shares'].quantile(.80)"
   ]
  },
  {
   "cell_type": "code",
   "execution_count": 198,
   "id": "20f4b76c-b6b7-4ae1-930d-2f45fb6b1ce2",
   "metadata": {},
   "outputs": [
    {
     "name": "stdout",
     "output_type": "stream",
     "text": [
      "(39644, 61)\n",
      "(35660, 61)\n"
     ]
    }
   ],
   "source": [
    "print(news1.shape)\n",
    "P = np.percentile(news1[' shares'], [5, 95])\n",
    "news3 = news1[(news1[' shares'] > P[0]) & (news1[' shares'] < P[1])]\n",
    "news3[' shares'].describe()\n",
    "print(news3.shape)"
   ]
  },
  {
   "cell_type": "code",
   "execution_count": 199,
   "id": "baee44ad-f832-41b2-8162-89cd3fad5fcf",
   "metadata": {},
   "outputs": [
    {
     "name": "stdout",
     "output_type": "stream",
     "text": [
      "35660\n",
      "10.049440016143679\n"
     ]
    }
   ],
   "source": [
    "##caliculate percentage of outliers removed\n",
    "initial_count = news1.shape[0]\n",
    "final_count = news3.shape[0]\n",
    "print(final_count)\n",
    "percentage_removed = ((initial_count-final_count) / initial_count)*100\n",
    "print(percentage_removed)"
   ]
  },
  {
   "cell_type": "markdown",
   "id": "5b898d8e-6f32-4b9b-b9b1-d02898369c56",
   "metadata": {},
   "source": [
    "### Segmented Univariate Analysis"
   ]
  },
  {
   "cell_type": "code",
   "execution_count": 200,
   "id": "1995118b-028c-44c6-bcaa-3ac2f3556f33",
   "metadata": {},
   "outputs": [
    {
     "data": {
      "text/html": [
       "<div>\n",
       "<style scoped>\n",
       "    .dataframe tbody tr th:only-of-type {\n",
       "        vertical-align: middle;\n",
       "    }\n",
       "\n",
       "    .dataframe tbody tr th {\n",
       "        vertical-align: top;\n",
       "    }\n",
       "\n",
       "    .dataframe thead th {\n",
       "        text-align: right;\n",
       "    }\n",
       "</style>\n",
       "<table border=\"1\" class=\"dataframe\">\n",
       "  <thead>\n",
       "    <tr style=\"text-align: right;\">\n",
       "      <th></th>\n",
       "      <th>STUID</th>\n",
       "      <th>State</th>\n",
       "      <th>District</th>\n",
       "      <th>Gender</th>\n",
       "      <th>Age</th>\n",
       "      <th>Category</th>\n",
       "      <th>Same.language</th>\n",
       "      <th>Siblings</th>\n",
       "      <th>Handicap</th>\n",
       "      <th>Father.edu</th>\n",
       "      <th>...</th>\n",
       "      <th>Express.science.views</th>\n",
       "      <th>Watch.TV</th>\n",
       "      <th>Read.magazine</th>\n",
       "      <th>Read.a.book</th>\n",
       "      <th>Play.games</th>\n",
       "      <th>Help.in.household</th>\n",
       "      <th>Maths..</th>\n",
       "      <th>Reading..</th>\n",
       "      <th>Science..</th>\n",
       "      <th>Social..</th>\n",
       "    </tr>\n",
       "  </thead>\n",
       "  <tbody>\n",
       "    <tr>\n",
       "      <th>0</th>\n",
       "      <td>26011001001</td>\n",
       "      <td>Maharashtra</td>\n",
       "      <td>1</td>\n",
       "      <td>Girl</td>\n",
       "      <td>13 years</td>\n",
       "      <td>3.0</td>\n",
       "      <td>2.0</td>\n",
       "      <td>1 sibling</td>\n",
       "      <td>No</td>\n",
       "      <td>Illiterate</td>\n",
       "      <td>...</td>\n",
       "      <td>Agree</td>\n",
       "      <td>Every day</td>\n",
       "      <td>Never</td>\n",
       "      <td>Once a month</td>\n",
       "      <td>Once a week</td>\n",
       "      <td>Every day</td>\n",
       "      <td>NaN</td>\n",
       "      <td>33.33</td>\n",
       "      <td>NaN</td>\n",
       "      <td>NaN</td>\n",
       "    </tr>\n",
       "    <tr>\n",
       "      <th>1</th>\n",
       "      <td>26011001002</td>\n",
       "      <td>Maharashtra</td>\n",
       "      <td>1</td>\n",
       "      <td>Girl</td>\n",
       "      <td>15 years</td>\n",
       "      <td>3.0</td>\n",
       "      <td>2.0</td>\n",
       "      <td>3 siblings</td>\n",
       "      <td>No</td>\n",
       "      <td>NaN</td>\n",
       "      <td>...</td>\n",
       "      <td>Agree</td>\n",
       "      <td>Once a week</td>\n",
       "      <td>Never</td>\n",
       "      <td>Never</td>\n",
       "      <td>Once a week</td>\n",
       "      <td>Every day</td>\n",
       "      <td>NaN</td>\n",
       "      <td>62.07</td>\n",
       "      <td>NaN</td>\n",
       "      <td>NaN</td>\n",
       "    </tr>\n",
       "    <tr>\n",
       "      <th>2</th>\n",
       "      <td>26011001003</td>\n",
       "      <td>Maharashtra</td>\n",
       "      <td>1</td>\n",
       "      <td>Girl</td>\n",
       "      <td>14 years</td>\n",
       "      <td>3.0</td>\n",
       "      <td>2.0</td>\n",
       "      <td>3 siblings</td>\n",
       "      <td>No</td>\n",
       "      <td>Degree &amp; above</td>\n",
       "      <td>...</td>\n",
       "      <td>Agree</td>\n",
       "      <td>Every day</td>\n",
       "      <td>Once a month</td>\n",
       "      <td>Once a month</td>\n",
       "      <td>Once a week</td>\n",
       "      <td>Every day</td>\n",
       "      <td>NaN</td>\n",
       "      <td>41.38</td>\n",
       "      <td>NaN</td>\n",
       "      <td>NaN</td>\n",
       "    </tr>\n",
       "    <tr>\n",
       "      <th>3</th>\n",
       "      <td>26011001004</td>\n",
       "      <td>Maharashtra</td>\n",
       "      <td>1</td>\n",
       "      <td>Boy</td>\n",
       "      <td>13 years</td>\n",
       "      <td>3.0</td>\n",
       "      <td>2.0</td>\n",
       "      <td>3 siblings</td>\n",
       "      <td>No</td>\n",
       "      <td>Secondary</td>\n",
       "      <td>...</td>\n",
       "      <td>Agree</td>\n",
       "      <td>Every day</td>\n",
       "      <td>Every day</td>\n",
       "      <td>Never</td>\n",
       "      <td>Every day</td>\n",
       "      <td>Every day</td>\n",
       "      <td>29.82</td>\n",
       "      <td>NaN</td>\n",
       "      <td>NaN</td>\n",
       "      <td>NaN</td>\n",
       "    </tr>\n",
       "    <tr>\n",
       "      <th>4</th>\n",
       "      <td>26011001005</td>\n",
       "      <td>Maharashtra</td>\n",
       "      <td>1</td>\n",
       "      <td>Girl</td>\n",
       "      <td>14 years</td>\n",
       "      <td>3.0</td>\n",
       "      <td>2.0</td>\n",
       "      <td>2 siblings</td>\n",
       "      <td>No</td>\n",
       "      <td>Primary</td>\n",
       "      <td>...</td>\n",
       "      <td>Neither</td>\n",
       "      <td>Never</td>\n",
       "      <td>Never</td>\n",
       "      <td>Once a month</td>\n",
       "      <td>Once a week</td>\n",
       "      <td>Every day</td>\n",
       "      <td>NaN</td>\n",
       "      <td>NaN</td>\n",
       "      <td>27.27</td>\n",
       "      <td>NaN</td>\n",
       "    </tr>\n",
       "  </tbody>\n",
       "</table>\n",
       "<p>5 rows × 64 columns</p>\n",
       "</div>"
      ],
      "text/plain": [
       "         STUID        State  District Gender       Age  Category  \\\n",
       "0  26011001001  Maharashtra         1   Girl  13 years       3.0   \n",
       "1  26011001002  Maharashtra         1   Girl  15 years       3.0   \n",
       "2  26011001003  Maharashtra         1   Girl  14 years       3.0   \n",
       "3  26011001004  Maharashtra         1    Boy  13 years       3.0   \n",
       "4  26011001005  Maharashtra         1   Girl  14 years       3.0   \n",
       "\n",
       "   Same.language    Siblings Handicap      Father.edu  ...  \\\n",
       "0            2.0   1 sibling       No      Illiterate  ...   \n",
       "1            2.0  3 siblings       No             NaN  ...   \n",
       "2            2.0  3 siblings       No  Degree & above  ...   \n",
       "3            2.0  3 siblings       No       Secondary  ...   \n",
       "4            2.0  2 siblings       No         Primary  ...   \n",
       "\n",
       "  Express.science.views     Watch.TV Read.magazine   Read.a.book   Play.games  \\\n",
       "0                 Agree    Every day         Never  Once a month  Once a week   \n",
       "1                 Agree  Once a week         Never         Never  Once a week   \n",
       "2                 Agree    Every day  Once a month  Once a month  Once a week   \n",
       "3                 Agree    Every day     Every day         Never    Every day   \n",
       "4               Neither        Never         Never  Once a month  Once a week   \n",
       "\n",
       "  Help.in.household Maths.. Reading.. Science.. Social..  \n",
       "0         Every day     NaN     33.33       NaN      NaN  \n",
       "1         Every day     NaN     62.07       NaN      NaN  \n",
       "2         Every day     NaN     41.38       NaN      NaN  \n",
       "3         Every day   29.82       NaN       NaN      NaN  \n",
       "4         Every day     NaN       NaN     27.27      NaN  \n",
       "\n",
       "[5 rows x 64 columns]"
      ]
     },
     "execution_count": 200,
     "metadata": {},
     "output_type": "execute_result"
    }
   ],
   "source": [
    "nas = pd.read_csv('EDA_nas.csv')\n",
    "nas.head()"
   ]
  },
  {
   "cell_type": "code",
   "execution_count": 201,
   "id": "1e8ceb48-83a9-44a6-9e84-204d94ac71dd",
   "metadata": {},
   "outputs": [
    {
     "data": {
      "text/plain": [
       "Watch.TV\n",
       "Every day       6621\n",
       "Once a week     1479\n",
       "Never            348\n",
       "Once a month     309\n",
       "Name: count, dtype: int64"
      ]
     },
     "execution_count": 201,
     "metadata": {},
     "output_type": "execute_result"
    }
   ],
   "source": [
    "nas['Watch.TV'].value_counts()"
   ]
  },
  {
   "cell_type": "code",
   "execution_count": 202,
   "id": "e7d1f388-1a82-425a-b987-eca5e643912e",
   "metadata": {},
   "outputs": [
    {
     "data": {
      "text/plain": [
       "Index(['STUID', 'State', 'District', 'Gender', 'Age', 'Category',\n",
       "       'Same.language', 'Siblings', 'Handicap', 'Father.edu', 'Mother.edu',\n",
       "       'Father.occupation', 'Mother.occupation', 'Below.poverty',\n",
       "       'Use.calculator', 'Use.computer', 'Use.Internet', 'Use.dictionary',\n",
       "       'Read.other.books', 'X..Books', 'Distance', 'Computer.use',\n",
       "       'Library.use', 'Like.school', 'Subjects', 'Give.Lang.HW',\n",
       "       'Give.Math.HW', 'Give.Scie.HW', 'Give.SoSc.HW', 'Correct.Lang.HW',\n",
       "       'Correct.Math.HW', 'Correct.Scie.HW', 'Correct.SocS.HW',\n",
       "       'Help.in.Study', 'Private.tuition', 'English.is.difficult',\n",
       "       'Read.English', 'Dictionary.to.learn', 'Answer.English.WB',\n",
       "       'Answer.English.aloud', 'Maths.is.difficult', 'Solve.Maths',\n",
       "       'Solve.Maths.in.groups', 'Draw.geometry', 'Explain.answers',\n",
       "       'SocSci.is.difficult', 'Historical.excursions', 'Participate.in.SocSci',\n",
       "       'Small.groups.in.SocSci', 'Express.SocSci.views',\n",
       "       'Science.is.difficult', 'Observe.experiments', 'Conduct.experiments',\n",
       "       'Solve.science.problems', 'Express.science.views', 'Watch.TV',\n",
       "       'Read.magazine', 'Read.a.book', 'Play.games', 'Help.in.household',\n",
       "       'Maths..', 'Reading..', 'Science..', 'Social..'],\n",
       "      dtype='object')"
      ]
     },
     "execution_count": 202,
     "metadata": {},
     "output_type": "execute_result"
    }
   ],
   "source": [
    "nas.columns"
   ]
  },
  {
   "cell_type": "code",
   "execution_count": 203,
   "id": "af9ab966-f329-4ee5-8bb1-2f13da85f3b3",
   "metadata": {},
   "outputs": [
    {
     "data": {
      "text/plain": [
       "Science..\n",
       "34.55    286\n",
       "30.91    278\n",
       "32.73    269\n",
       "29.09    268\n",
       "27.27    257\n",
       "36.36    227\n",
       "38.18    216\n",
       "23.64    214\n",
       "25.45    204\n",
       "40.00    185\n",
       "21.82    151\n",
       "43.64    144\n",
       "45.45    138\n",
       "41.82    130\n",
       "20.00    114\n",
       "50.91    111\n",
       "49.09    106\n",
       "47.27     97\n",
       "54.55     85\n",
       "52.73     84\n",
       "18.18     66\n",
       "16.36     62\n",
       "58.18     47\n",
       "60.00     46\n",
       "56.36     45\n",
       "14.55     35\n",
       "63.64     30\n",
       "61.82     26\n",
       "65.45     24\n",
       "69.09     23\n",
       "72.73     21\n",
       "67.27     21\n",
       "12.73     20\n",
       "74.55     14\n",
       "70.91     14\n",
       "10.91     13\n",
       "80.00     11\n",
       "76.36     11\n",
       "9.09      10\n",
       "78.18      8\n",
       "7.27       8\n",
       "81.82      6\n",
       "5.45       5\n",
       "1.82       4\n",
       "85.45      3\n",
       "3.64       3\n",
       "0.00       3\n",
       "83.64      1\n",
       "Name: count, dtype: int64"
      ]
     },
     "execution_count": 203,
     "metadata": {},
     "output_type": "execute_result"
    }
   ],
   "source": [
    "nas['Science..'].value_counts()"
   ]
  },
  {
   "cell_type": "code",
   "execution_count": 204,
   "id": "a0610f35-e4c7-49e0-ad38-7ecfefa76798",
   "metadata": {},
   "outputs": [
    {
     "data": {
      "text/plain": [
       "Father.edu\n",
       "Secondary         2549\n",
       "Primary           2434\n",
       "Illiterate        2034\n",
       "Sr secondary       792\n",
       "Degree & above     338\n",
       "Name: count, dtype: int64"
      ]
     },
     "execution_count": 204,
     "metadata": {},
     "output_type": "execute_result"
    }
   ],
   "source": [
    "nas['Father.edu'].value_counts()"
   ]
  },
  {
   "cell_type": "code",
   "execution_count": 205,
   "id": "4419c8d8-d6dc-4eca-9fd4-8e0c96027c87",
   "metadata": {},
   "outputs": [
    {
     "data": {
      "text/plain": [
       "654"
      ]
     },
     "execution_count": 205,
     "metadata": {},
     "output_type": "execute_result"
    }
   ],
   "source": [
    "nas['Father.edu'].isnull().sum()"
   ]
  },
  {
   "cell_type": "code",
   "execution_count": 206,
   "id": "27242718-25d8-436b-9cd5-a5ce86f44876",
   "metadata": {},
   "outputs": [
    {
     "name": "stdout",
     "output_type": "stream",
     "text": [
      "(8801, 64)\n",
      "(8147, 64)\n"
     ]
    }
   ],
   "source": [
    "print(nas.shape)\n",
    "nas = nas[~(nas['Father.edu'].isnull())]\n",
    "print(nas.shape)"
   ]
  },
  {
   "cell_type": "code",
   "execution_count": 207,
   "id": "2c4c9dec-ecc5-4c74-ab65-cd7cacc0f278",
   "metadata": {},
   "outputs": [
    {
     "data": {
      "text/plain": [
       "0"
      ]
     },
     "execution_count": 207,
     "metadata": {},
     "output_type": "execute_result"
    }
   ],
   "source": [
    "nas['Father.edu'].isnull().sum()"
   ]
  },
  {
   "cell_type": "code",
   "execution_count": 208,
   "id": "2d158981-1a59-4608-8519-9845853cc2d9",
   "metadata": {},
   "outputs": [
    {
     "data": {
      "text/plain": [
       "Father.edu\n",
       "Secondary         2549\n",
       "Primary           2434\n",
       "Illiterate        2034\n",
       "Sr secondary       792\n",
       "Degree & above     338\n",
       "Name: count, dtype: int64"
      ]
     },
     "execution_count": 208,
     "metadata": {},
     "output_type": "execute_result"
    }
   ],
   "source": [
    "nas['Father.edu'].value_counts()"
   ]
  },
  {
   "cell_type": "code",
   "execution_count": 209,
   "id": "8c5c9641-912f-42d0-a4e8-1024cf123f53",
   "metadata": {},
   "outputs": [
    {
     "data": {
      "text/plain": [
       "4268"
      ]
     },
     "execution_count": 209,
     "metadata": {},
     "output_type": "execute_result"
    }
   ],
   "source": [
    "nas['Maths..'].isnull().sum()"
   ]
  },
  {
   "cell_type": "code",
   "execution_count": 210,
   "id": "af289cec-9d00-4f1a-b579-445d30df17b2",
   "metadata": {},
   "outputs": [
    {
     "data": {
      "text/plain": [
       "count    3879.000000\n",
       "mean       31.708791\n",
       "std        14.642729\n",
       "min         0.000000\n",
       "25%        22.030000\n",
       "50%        28.070000\n",
       "75%        36.840000\n",
       "max        94.740000\n",
       "Name: Maths.., dtype: float64"
      ]
     },
     "execution_count": 210,
     "metadata": {},
     "output_type": "execute_result"
    }
   ],
   "source": [
    "nas['Maths..'].describe()"
   ]
  },
  {
   "cell_type": "markdown",
   "id": "b63a191e-1fa2-45df-a77b-238084da83b7",
   "metadata": {},
   "source": [
    "### Bivarital Analysis"
   ]
  },
  {
   "cell_type": "code",
   "execution_count": 211,
   "id": "1a4f6f4a-d8da-424d-a587-c9f7c311b48e",
   "metadata": {},
   "outputs": [
    {
     "data": {
      "text/plain": [
       "Index(['Month', 'SilverPrice', 'GoldPrice'], dtype='object')"
      ]
     },
     "execution_count": 211,
     "metadata": {},
     "output_type": "execute_result"
    }
   ],
   "source": [
    "df = pd.read_csv('EDA_Gold_Silver_prices.csv')\n",
    "df.SilverPrice.value_counts()\n",
    "df.columns"
   ]
  },
  {
   "cell_type": "code",
   "execution_count": 212,
   "id": "489312e4-4e11-45c9-8024-3c1ef71f8936",
   "metadata": {},
   "outputs": [
    {
     "data": {
      "text/plain": [
       "GoldPrice\n",
       "12619.24    1\n",
       "28636.08    1\n",
       "52912.18    1\n",
       "51344.51    1\n",
       "50745.87    1\n",
       "           ..\n",
       "17716.56    1\n",
       "17362.97    1\n",
       "17859.21    1\n",
       "18329.56    1\n",
       "81169.45    1\n",
       "Name: count, Length: 241, dtype: int64"
      ]
     },
     "execution_count": 212,
     "metadata": {},
     "output_type": "execute_result"
    }
   ],
   "source": [
    "df.GoldPrice.value_counts()"
   ]
  },
  {
   "cell_type": "code",
   "execution_count": 213,
   "id": "072d777a-222e-4cde-9335-df2a85cbe342",
   "metadata": {},
   "outputs": [
    {
     "data": {
      "text/plain": [
       "0.9542559570539775"
      ]
     },
     "execution_count": 213,
     "metadata": {},
     "output_type": "execute_result"
    }
   ],
   "source": [
    "correlation = df['GoldPrice'].corr(df['SilverPrice'])\n",
    "correlation"
   ]
  },
  {
   "cell_type": "code",
   "execution_count": 214,
   "id": "6cc0c418-81c9-418d-8c49-eaca0f67a7a8",
   "metadata": {},
   "outputs": [
    {
     "data": {
      "image/png": "[encoded data removed]",
      "text/plain": [
       "<Figure size 1000x600 with 1 Axes>"
      ]
     },
     "metadata": {},
     "output_type": "display_data"
    }
   ],
   "source": [
    "plt.figure(figsize=(10, 6))\n",
    "plt.scatter(df['GoldPrice'], df['SilverPrice'], alpha=0.5)\n",
    "plt.title(f'Scatter Plot of Gold vs Silver Prices (Correlation: {correlation:.2f})')\n",
    "plt.xlabel('Gold Prices')\n",
    "plt.ylabel('Silver Prices')\n",
    "plt.grid(True)\n",
    "plt.show()"
   ]
  },
  {
   "cell_type": "code",
   "execution_count": 215,
   "id": "64068d62-4b48-417a-a1aa-412315515ce0",
   "metadata": {},
   "outputs": [
    {
     "data": {
      "text/html": [
       "<div>\n",
       "<style scoped>\n",
       "    .dataframe tbody tr th:only-of-type {\n",
       "        vertical-align: middle;\n",
       "    }\n",
       "\n",
       "    .dataframe tbody tr th {\n",
       "        vertical-align: top;\n",
       "    }\n",
       "\n",
       "    .dataframe thead th {\n",
       "        text-align: right;\n",
       "    }\n",
       "</style>\n",
       "<table border=\"1\" class=\"dataframe\">\n",
       "  <thead>\n",
       "    <tr style=\"text-align: right;\">\n",
       "      <th></th>\n",
       "      <th>Month</th>\n",
       "      <th>SilverPrice</th>\n",
       "      <th>GoldPrice</th>\n",
       "    </tr>\n",
       "  </thead>\n",
       "  <tbody>\n",
       "    <tr>\n",
       "      <th>0</th>\n",
       "      <td>Mar-97</td>\n",
       "      <td>186.48</td>\n",
       "      <td>12619.24</td>\n",
       "    </tr>\n",
       "    <tr>\n",
       "      <th>1</th>\n",
       "      <td>Apr-97</td>\n",
       "      <td>170.65</td>\n",
       "      <td>12338.59</td>\n",
       "    </tr>\n",
       "    <tr>\n",
       "      <th>2</th>\n",
       "      <td>May-97</td>\n",
       "      <td>170.44</td>\n",
       "      <td>12314.94</td>\n",
       "    </tr>\n",
       "    <tr>\n",
       "      <th>3</th>\n",
       "      <td>Jun-97</td>\n",
       "      <td>169.96</td>\n",
       "      <td>12202.78</td>\n",
       "    </tr>\n",
       "    <tr>\n",
       "      <th>4</th>\n",
       "      <td>Jul-97</td>\n",
       "      <td>155.80</td>\n",
       "      <td>11582.07</td>\n",
       "    </tr>\n",
       "  </tbody>\n",
       "</table>\n",
       "</div>"
      ],
      "text/plain": [
       "    Month  SilverPrice  GoldPrice\n",
       "0  Mar-97       186.48   12619.24\n",
       "1  Apr-97       170.65   12338.59\n",
       "2  May-97       170.44   12314.94\n",
       "3  Jun-97       169.96   12202.78\n",
       "4  Jul-97       155.80   11582.07"
      ]
     },
     "execution_count": 215,
     "metadata": {},
     "output_type": "execute_result"
    }
   ],
   "source": [
    "df.head()"
   ]
  },
  {
   "cell_type": "code",
   "execution_count": 216,
   "id": "870bf71e-b771-4873-912c-bd73cacffc55",
   "metadata": {},
   "outputs": [
    {
     "data": {
      "text/html": [
       "<div>\n",
       "<style scoped>\n",
       "    .dataframe tbody tr th:only-of-type {\n",
       "        vertical-align: middle;\n",
       "    }\n",
       "\n",
       "    .dataframe tbody tr th {\n",
       "        vertical-align: top;\n",
       "    }\n",
       "\n",
       "    .dataframe thead th {\n",
       "        text-align: right;\n",
       "    }\n",
       "</style>\n",
       "<table border=\"1\" class=\"dataframe\">\n",
       "  <thead>\n",
       "    <tr style=\"text-align: right;\">\n",
       "      <th></th>\n",
       "      <th>Month</th>\n",
       "      <th>SilverPrice</th>\n",
       "      <th>GoldPrice</th>\n",
       "      <th>Year</th>\n",
       "    </tr>\n",
       "  </thead>\n",
       "  <tbody>\n",
       "    <tr>\n",
       "      <th>0</th>\n",
       "      <td>1997-03-01</td>\n",
       "      <td>186.48</td>\n",
       "      <td>12619.24</td>\n",
       "      <td>1997</td>\n",
       "    </tr>\n",
       "    <tr>\n",
       "      <th>1</th>\n",
       "      <td>1997-04-01</td>\n",
       "      <td>170.65</td>\n",
       "      <td>12338.59</td>\n",
       "      <td>1997</td>\n",
       "    </tr>\n",
       "    <tr>\n",
       "      <th>2</th>\n",
       "      <td>1997-05-01</td>\n",
       "      <td>170.44</td>\n",
       "      <td>12314.94</td>\n",
       "      <td>1997</td>\n",
       "    </tr>\n",
       "    <tr>\n",
       "      <th>3</th>\n",
       "      <td>1997-06-01</td>\n",
       "      <td>169.96</td>\n",
       "      <td>12202.78</td>\n",
       "      <td>1997</td>\n",
       "    </tr>\n",
       "    <tr>\n",
       "      <th>4</th>\n",
       "      <td>1997-07-01</td>\n",
       "      <td>155.80</td>\n",
       "      <td>11582.07</td>\n",
       "      <td>1997</td>\n",
       "    </tr>\n",
       "  </tbody>\n",
       "</table>\n",
       "</div>"
      ],
      "text/plain": [
       "       Month  SilverPrice  GoldPrice  Year\n",
       "0 1997-03-01       186.48   12619.24  1997\n",
       "1 1997-04-01       170.65   12338.59  1997\n",
       "2 1997-05-01       170.44   12314.94  1997\n",
       "3 1997-06-01       169.96   12202.78  1997\n",
       "4 1997-07-01       155.80   11582.07  1997"
      ]
     },
     "execution_count": 216,
     "metadata": {},
     "output_type": "execute_result"
    }
   ],
   "source": [
    "import datetime\n",
    "\n",
    "# Convert the string to a datetime object\n",
    "df['Month'] = pd.to_datetime(df['Month'], format='%b-%y')\n",
    "\n",
    "# Extract the year\n",
    "df['Year'] = df['Month'].dt.year\n",
    "df.head()"
   ]
  },
  {
   "cell_type": "code",
   "execution_count": 217,
   "id": "625da081-8b78-44ec-801c-902890b70c02",
   "metadata": {},
   "outputs": [
    {
     "data": {
      "text/plain": [
       "0.009583757463369392"
      ]
     },
     "execution_count": 217,
     "metadata": {},
     "output_type": "execute_result"
    }
   ],
   "source": [
    "#find correleation for specif year\n",
    "#first filter data for specific given year\n",
    "# later apply correlation on sub set year specific data\n",
    "\n",
    "# Filter the data for the specific year (e.g., 1997)\n",
    "specific_year = 2008\n",
    "df_specific_year = df[df['Year'] == specific_year]\n",
    "\n",
    "# Calculate the correlation between 'Gold' and 'Silver' for the specific year\n",
    "correlation = df_specific_year['GoldPrice'].corr(df_specific_year['SilverPrice'])\n",
    "correlation"
   ]
  },
  {
   "cell_type": "code",
   "execution_count": 218,
   "id": "d14b5583-351d-4113-beff-0d3b12b2a511",
   "metadata": {},
   "outputs": [
    {
     "data": {
      "image/png": "[encoded data removed]",
      "text/plain": [
       "<Figure size 1000x600 with 1 Axes>"
      ]
     },
     "metadata": {},
     "output_type": "display_data"
    }
   ],
   "source": [
    "plt.figure(figsize=(10, 6))\n",
    "plt.scatter(df_specific_year['GoldPrice'], df_specific_year['SilverPrice'], alpha=0.5)\n",
    "plt.title(f'Scatter Plot of Gold vs Silver Prices - 2008 year (Correlation: {correlation:.2f})')\n",
    "plt.xlabel('Gold Prices')\n",
    "plt.ylabel('Silver Prices')\n",
    "plt.grid(True)\n",
    "plt.show()"
   ]
  },
  {
   "cell_type": "code",
   "execution_count": 219,
   "id": "27004eb1-4741-4455-a89a-80a1e7155276",
   "metadata": {},
   "outputs": [
    {
     "data": {
      "text/plain": [
       "Index(['Currency', 'Chinese Yuan', 'Euro', 'Japanese Yen',\n",
       "       'U.K. Pound Sterling', 'U.S. Dollar', 'Algerian Dinar',\n",
       "       'Australian Dollar', 'Bahrain Dinar', 'Botswana Pula', 'Brazilian Real',\n",
       "       'Brunei Dollar', 'Canadian Dollar', 'Chilean Peso', 'Colombian Peso',\n",
       "       'Czech Koruna', 'Danish Krone', 'Hungarian Forint', 'Icelandic Krona',\n",
       "       'Indian Rupee', 'Indonesian Rupiah', 'Iranian Rial',\n",
       "       'Israeli New Sheqel', 'Kazakhstani Tenge', 'Korean Won',\n",
       "       'Kuwaiti Dinar', 'Libyan Dinar', 'Malaysian Ringgit', 'Mauritian Rupee',\n",
       "       'Mexican Peso', 'Nepalese Rupee', 'New Zealand Dollar',\n",
       "       'Norwegian Krone', 'Rial Omani', 'Pakistani Rupee', 'Nuevo Sol',\n",
       "       'Philippine Peso', 'Polish Zloty', 'Qatar Riyal', 'Russian Ruble',\n",
       "       'Saudi Arabian Riyal', 'Singapore Dollar', 'South African Rand',\n",
       "       'Sri Lanka Rupee', 'Swedish Krona', 'Swiss Franc', 'Thai Baht',\n",
       "       'Trinidad And Tobago Dollar', 'Tunisian Dinar', 'U.A.E. Dirham',\n",
       "       'Peso Uruguayo', 'Bolivar Fuerte'],\n",
       "      dtype='object')"
      ]
     },
     "execution_count": 219,
     "metadata": {},
     "output_type": "execute_result"
    }
   ],
   "source": [
    "cur = pd.read_csv('currencies.csv')\n",
    "cur.head()\n",
    "cur.columns\n"
   ]
  },
  {
   "cell_type": "code",
   "execution_count": 220,
   "id": "e5c6ee69-ece1-4841-a299-7461e6d4b39f",
   "metadata": {},
   "outputs": [
    {
     "data": {
      "text/html": [
       "<div>\n",
       "<style scoped>\n",
       "    .dataframe tbody tr th:only-of-type {\n",
       "        vertical-align: middle;\n",
       "    }\n",
       "\n",
       "    .dataframe tbody tr th {\n",
       "        vertical-align: top;\n",
       "    }\n",
       "\n",
       "    .dataframe thead th {\n",
       "        text-align: right;\n",
       "    }\n",
       "</style>\n",
       "<table border=\"1\" class=\"dataframe\">\n",
       "  <thead>\n",
       "    <tr style=\"text-align: right;\">\n",
       "      <th></th>\n",
       "      <th>Indian Rupee</th>\n",
       "      <th>U.S. Dollar</th>\n",
       "      <th>Australian Dollar</th>\n",
       "      <th>Euro</th>\n",
       "      <th>Japanese Yen</th>\n",
       "      <th>U.K. Pound Sterling</th>\n",
       "    </tr>\n",
       "  </thead>\n",
       "  <tbody>\n",
       "    <tr>\n",
       "      <th>0</th>\n",
       "      <td>94.1451</td>\n",
       "      <td>1.39596</td>\n",
       "      <td>1.87126</td>\n",
       "      <td>1.25367</td>\n",
       "      <td>143.645</td>\n",
       "      <td>1.05054</td>\n",
       "    </tr>\n",
       "    <tr>\n",
       "      <th>1</th>\n",
       "      <td>94.1513</td>\n",
       "      <td>1.39684</td>\n",
       "      <td>1.85825</td>\n",
       "      <td>1.25322</td>\n",
       "      <td>142.715</td>\n",
       "      <td>1.06143</td>\n",
       "    </tr>\n",
       "    <tr>\n",
       "      <th>2</th>\n",
       "      <td>NaN</td>\n",
       "      <td>1.39286</td>\n",
       "      <td>1.87313</td>\n",
       "      <td>1.25834</td>\n",
       "      <td>140.540</td>\n",
       "      <td>1.07300</td>\n",
       "    </tr>\n",
       "    <tr>\n",
       "      <th>3</th>\n",
       "      <td>94.0345</td>\n",
       "      <td>1.39316</td>\n",
       "      <td>1.85236</td>\n",
       "      <td>1.25737</td>\n",
       "      <td>140.640</td>\n",
       "      <td>1.06911</td>\n",
       "    </tr>\n",
       "    <tr>\n",
       "      <th>4</th>\n",
       "      <td>93.9408</td>\n",
       "      <td>1.39257</td>\n",
       "      <td>1.85974</td>\n",
       "      <td>1.25797</td>\n",
       "      <td>140.510</td>\n",
       "      <td>1.07261</td>\n",
       "    </tr>\n",
       "  </tbody>\n",
       "</table>\n",
       "</div>"
      ],
      "text/plain": [
       "   Indian Rupee  U.S. Dollar  Australian Dollar     Euro  Japanese Yen  \\\n",
       "0       94.1451      1.39596            1.87126  1.25367       143.645   \n",
       "1       94.1513      1.39684            1.85825  1.25322       142.715   \n",
       "2           NaN      1.39286            1.87313  1.25834       140.540   \n",
       "3       94.0345      1.39316            1.85236  1.25737       140.640   \n",
       "4       93.9408      1.39257            1.85974  1.25797       140.510   \n",
       "\n",
       "   U.K. Pound Sterling  \n",
       "0              1.05054  \n",
       "1              1.06143  \n",
       "2              1.07300  \n",
       "3              1.06911  \n",
       "4              1.07261  "
      ]
     },
     "execution_count": 220,
     "metadata": {},
     "output_type": "execute_result"
    }
   ],
   "source": [
    "selected_columns = ['Indian Rupee', 'U.S. Dollar','Australian Dollar','Euro', 'Japanese Yen','U.K. Pound Sterling']\n",
    "new_df = cur[selected_columns]\n",
    "new_df.head()"
   ]
  },
  {
   "cell_type": "code",
   "execution_count": 221,
   "id": "28a53df4-e208-45e7-b0a2-4894852b5fdc",
   "metadata": {},
   "outputs": [
    {
     "data": {
      "text/html": [
       "<div>\n",
       "<style scoped>\n",
       "    .dataframe tbody tr th:only-of-type {\n",
       "        vertical-align: middle;\n",
       "    }\n",
       "\n",
       "    .dataframe tbody tr th {\n",
       "        vertical-align: top;\n",
       "    }\n",
       "\n",
       "    .dataframe thead th {\n",
       "        text-align: right;\n",
       "    }\n",
       "</style>\n",
       "<table border=\"1\" class=\"dataframe\">\n",
       "  <thead>\n",
       "    <tr style=\"text-align: right;\">\n",
       "      <th></th>\n",
       "      <th>Indian Rupee</th>\n",
       "      <th>U.S. Dollar</th>\n",
       "      <th>Australian Dollar</th>\n",
       "      <th>Euro</th>\n",
       "      <th>Japanese Yen</th>\n",
       "      <th>U.K. Pound Sterling</th>\n",
       "    </tr>\n",
       "  </thead>\n",
       "  <tbody>\n",
       "    <tr>\n",
       "      <th>Indian Rupee</th>\n",
       "      <td>1.000000</td>\n",
       "      <td>0.872862</td>\n",
       "      <td>0.921475</td>\n",
       "      <td>0.243851</td>\n",
       "      <td>-0.270123</td>\n",
       "      <td>0.314681</td>\n",
       "    </tr>\n",
       "    <tr>\n",
       "      <th>U.S. Dollar</th>\n",
       "      <td>0.872862</td>\n",
       "      <td>1.000000</td>\n",
       "      <td>0.607010</td>\n",
       "      <td>-0.210587</td>\n",
       "      <td>0.210295</td>\n",
       "      <td>-0.042303</td>\n",
       "    </tr>\n",
       "    <tr>\n",
       "      <th>Australian Dollar</th>\n",
       "      <td>0.921475</td>\n",
       "      <td>0.607010</td>\n",
       "      <td>1.000000</td>\n",
       "      <td>0.331588</td>\n",
       "      <td>-0.582032</td>\n",
       "      <td>0.579213</td>\n",
       "    </tr>\n",
       "    <tr>\n",
       "      <th>Euro</th>\n",
       "      <td>0.243851</td>\n",
       "      <td>-0.210587</td>\n",
       "      <td>0.331588</td>\n",
       "      <td>1.000000</td>\n",
       "      <td>-0.645719</td>\n",
       "      <td>0.531150</td>\n",
       "    </tr>\n",
       "    <tr>\n",
       "      <th>Japanese Yen</th>\n",
       "      <td>-0.270123</td>\n",
       "      <td>0.210295</td>\n",
       "      <td>-0.582032</td>\n",
       "      <td>-0.645719</td>\n",
       "      <td>1.000000</td>\n",
       "      <td>-0.970308</td>\n",
       "    </tr>\n",
       "    <tr>\n",
       "      <th>U.K. Pound Sterling</th>\n",
       "      <td>0.314681</td>\n",
       "      <td>-0.042303</td>\n",
       "      <td>0.579213</td>\n",
       "      <td>0.531150</td>\n",
       "      <td>-0.970308</td>\n",
       "      <td>1.000000</td>\n",
       "    </tr>\n",
       "  </tbody>\n",
       "</table>\n",
       "</div>"
      ],
      "text/plain": [
       "                     Indian Rupee  U.S. Dollar  Australian Dollar      Euro  \\\n",
       "Indian Rupee             1.000000     0.872862           0.921475  0.243851   \n",
       "U.S. Dollar              0.872862     1.000000           0.607010 -0.210587   \n",
       "Australian Dollar        0.921475     0.607010           1.000000  0.331588   \n",
       "Euro                     0.243851    -0.210587           0.331588  1.000000   \n",
       "Japanese Yen            -0.270123     0.210295          -0.582032 -0.645719   \n",
       "U.K. Pound Sterling      0.314681    -0.042303           0.579213  0.531150   \n",
       "\n",
       "                     Japanese Yen  U.K. Pound Sterling  \n",
       "Indian Rupee            -0.270123             0.314681  \n",
       "U.S. Dollar              0.210295            -0.042303  \n",
       "Australian Dollar       -0.582032             0.579213  \n",
       "Euro                    -0.645719             0.531150  \n",
       "Japanese Yen             1.000000            -0.970308  \n",
       "U.K. Pound Sterling     -0.970308             1.000000  "
      ]
     },
     "execution_count": 221,
     "metadata": {},
     "output_type": "execute_result"
    }
   ],
   "source": [
    "new_df.corr()"
   ]
  },
  {
   "cell_type": "code",
   "execution_count": 222,
   "id": "287cb768-294a-425c-9509-f4e00d4bd5cc",
   "metadata": {},
   "outputs": [
    {
     "name": "stdout",
     "output_type": "stream",
     "text": [
      "0.8728617382644617\n",
      "0.9214754518981337\n",
      "0.24385071994533072\n",
      "-0.27012349155025495\n"
     ]
    },
    {
     "data": {
      "image/png": "[encoded data removed]",
      "text/plain": [
       "<Figure size 640x480 with 2 Axes>"
      ]
     },
     "metadata": {},
     "output_type": "display_data"
    }
   ],
   "source": [
    "import matplotlib.pyplot as plt\n",
    "\n",
    "import seaborn as sns\n",
    "\n",
    "\n",
    "\n",
    "# caliculate individual correlation to understan better\n",
    "#selected_columns = ['Indian Rupee', 'U.S. Dollar','Australian Dollar','Euro', 'Japanese Yen']\n",
    "\n",
    "print(new_df['Indian Rupee'].corr(new_df['U.S. Dollar']))\n",
    "print(new_df['Indian Rupee'].corr(new_df['Australian Dollar']))\n",
    "print(new_df['Indian Rupee'].corr(new_df['Euro']))\n",
    "print(new_df['Indian Rupee'].corr(new_df['Japanese Yen']))\n",
    "\n",
    "\n",
    "corr = new_df.corr()\n",
    "sns.heatmap(corr, annot=True,\n",
    "\t            xticklabels=corr.columns.values,\n",
    "\t            yticklabels=corr.columns.values)\n",
    "#plt.figure(figsize=(10, 8))\n",
    "#sns.heatmap(corr, annot=True, cmap='coolwarm', vmin=-1, vmax=1)\n",
    "plt.show()\n"
   ]
  },
  {
   "cell_type": "code",
   "execution_count": 227,
   "id": "7c0fb5e0-2fbc-4979-9e68-9815a6726949",
   "metadata": {},
   "outputs": [
    {
     "data": {
      "text/html": [
       "<div>\n",
       "<style scoped>\n",
       "    .dataframe tbody tr th:only-of-type {\n",
       "        vertical-align: middle;\n",
       "    }\n",
       "\n",
       "    .dataframe tbody tr th {\n",
       "        vertical-align: top;\n",
       "    }\n",
       "\n",
       "    .dataframe thead th {\n",
       "        text-align: right;\n",
       "    }\n",
       "</style>\n",
       "<table border=\"1\" class=\"dataframe\">\n",
       "  <thead>\n",
       "    <tr style=\"text-align: right;\">\n",
       "      <th></th>\n",
       "      <th>STUID</th>\n",
       "      <th>State</th>\n",
       "      <th>District</th>\n",
       "      <th>Gender</th>\n",
       "      <th>Age</th>\n",
       "      <th>Category</th>\n",
       "      <th>Same.language</th>\n",
       "      <th>Siblings</th>\n",
       "      <th>Handicap</th>\n",
       "      <th>Father.edu</th>\n",
       "      <th>...</th>\n",
       "      <th>Express.science.views</th>\n",
       "      <th>Watch.TV</th>\n",
       "      <th>Read.magazine</th>\n",
       "      <th>Read.a.book</th>\n",
       "      <th>Play.games</th>\n",
       "      <th>Help.in.household</th>\n",
       "      <th>Maths..</th>\n",
       "      <th>Reading..</th>\n",
       "      <th>Science..</th>\n",
       "      <th>Social..</th>\n",
       "    </tr>\n",
       "  </thead>\n",
       "  <tbody>\n",
       "    <tr>\n",
       "      <th>0</th>\n",
       "      <td>26011001001</td>\n",
       "      <td>Maharashtra</td>\n",
       "      <td>1</td>\n",
       "      <td>Girl</td>\n",
       "      <td>13 years</td>\n",
       "      <td>3.0</td>\n",
       "      <td>2.0</td>\n",
       "      <td>1 sibling</td>\n",
       "      <td>No</td>\n",
       "      <td>Illiterate</td>\n",
       "      <td>...</td>\n",
       "      <td>Agree</td>\n",
       "      <td>Every day</td>\n",
       "      <td>Never</td>\n",
       "      <td>Once a month</td>\n",
       "      <td>Once a week</td>\n",
       "      <td>Every day</td>\n",
       "      <td>NaN</td>\n",
       "      <td>33.33</td>\n",
       "      <td>NaN</td>\n",
       "      <td>NaN</td>\n",
       "    </tr>\n",
       "    <tr>\n",
       "      <th>1</th>\n",
       "      <td>26011001002</td>\n",
       "      <td>Maharashtra</td>\n",
       "      <td>1</td>\n",
       "      <td>Girl</td>\n",
       "      <td>15 years</td>\n",
       "      <td>3.0</td>\n",
       "      <td>2.0</td>\n",
       "      <td>3 siblings</td>\n",
       "      <td>No</td>\n",
       "      <td>NaN</td>\n",
       "      <td>...</td>\n",
       "      <td>Agree</td>\n",
       "      <td>Once a week</td>\n",
       "      <td>Never</td>\n",
       "      <td>Never</td>\n",
       "      <td>Once a week</td>\n",
       "      <td>Every day</td>\n",
       "      <td>NaN</td>\n",
       "      <td>62.07</td>\n",
       "      <td>NaN</td>\n",
       "      <td>NaN</td>\n",
       "    </tr>\n",
       "    <tr>\n",
       "      <th>2</th>\n",
       "      <td>26011001003</td>\n",
       "      <td>Maharashtra</td>\n",
       "      <td>1</td>\n",
       "      <td>Girl</td>\n",
       "      <td>14 years</td>\n",
       "      <td>3.0</td>\n",
       "      <td>2.0</td>\n",
       "      <td>3 siblings</td>\n",
       "      <td>No</td>\n",
       "      <td>Degree &amp; above</td>\n",
       "      <td>...</td>\n",
       "      <td>Agree</td>\n",
       "      <td>Every day</td>\n",
       "      <td>Once a month</td>\n",
       "      <td>Once a month</td>\n",
       "      <td>Once a week</td>\n",
       "      <td>Every day</td>\n",
       "      <td>NaN</td>\n",
       "      <td>41.38</td>\n",
       "      <td>NaN</td>\n",
       "      <td>NaN</td>\n",
       "    </tr>\n",
       "    <tr>\n",
       "      <th>3</th>\n",
       "      <td>26011001004</td>\n",
       "      <td>Maharashtra</td>\n",
       "      <td>1</td>\n",
       "      <td>Boy</td>\n",
       "      <td>13 years</td>\n",
       "      <td>3.0</td>\n",
       "      <td>2.0</td>\n",
       "      <td>3 siblings</td>\n",
       "      <td>No</td>\n",
       "      <td>Secondary</td>\n",
       "      <td>...</td>\n",
       "      <td>Agree</td>\n",
       "      <td>Every day</td>\n",
       "      <td>Every day</td>\n",
       "      <td>Never</td>\n",
       "      <td>Every day</td>\n",
       "      <td>Every day</td>\n",
       "      <td>29.82</td>\n",
       "      <td>NaN</td>\n",
       "      <td>NaN</td>\n",
       "      <td>NaN</td>\n",
       "    </tr>\n",
       "    <tr>\n",
       "      <th>4</th>\n",
       "      <td>26011001005</td>\n",
       "      <td>Maharashtra</td>\n",
       "      <td>1</td>\n",
       "      <td>Girl</td>\n",
       "      <td>14 years</td>\n",
       "      <td>3.0</td>\n",
       "      <td>2.0</td>\n",
       "      <td>2 siblings</td>\n",
       "      <td>No</td>\n",
       "      <td>Primary</td>\n",
       "      <td>...</td>\n",
       "      <td>Neither</td>\n",
       "      <td>Never</td>\n",
       "      <td>Never</td>\n",
       "      <td>Once a month</td>\n",
       "      <td>Once a week</td>\n",
       "      <td>Every day</td>\n",
       "      <td>NaN</td>\n",
       "      <td>NaN</td>\n",
       "      <td>27.27</td>\n",
       "      <td>NaN</td>\n",
       "    </tr>\n",
       "    <tr>\n",
       "      <th>...</th>\n",
       "      <td>...</td>\n",
       "      <td>...</td>\n",
       "      <td>...</td>\n",
       "      <td>...</td>\n",
       "      <td>...</td>\n",
       "      <td>...</td>\n",
       "      <td>...</td>\n",
       "      <td>...</td>\n",
       "      <td>...</td>\n",
       "      <td>...</td>\n",
       "      <td>...</td>\n",
       "      <td>...</td>\n",
       "      <td>...</td>\n",
       "      <td>...</td>\n",
       "      <td>...</td>\n",
       "      <td>...</td>\n",
       "      <td>...</td>\n",
       "      <td>...</td>\n",
       "      <td>...</td>\n",
       "      <td>...</td>\n",
       "      <td>...</td>\n",
       "    </tr>\n",
       "    <tr>\n",
       "      <th>8796</th>\n",
       "      <td>26141270036</td>\n",
       "      <td>Maharashtra</td>\n",
       "      <td>14</td>\n",
       "      <td>Boy</td>\n",
       "      <td>13 years</td>\n",
       "      <td>4.0</td>\n",
       "      <td>1.0</td>\n",
       "      <td>1 sibling</td>\n",
       "      <td>No</td>\n",
       "      <td>Secondary</td>\n",
       "      <td>...</td>\n",
       "      <td>Agree</td>\n",
       "      <td>Every day</td>\n",
       "      <td>Every day</td>\n",
       "      <td>Once a week</td>\n",
       "      <td>Every day</td>\n",
       "      <td>Every day</td>\n",
       "      <td>NaN</td>\n",
       "      <td>NaN</td>\n",
       "      <td>34.55</td>\n",
       "      <td>30.61</td>\n",
       "    </tr>\n",
       "    <tr>\n",
       "      <th>8797</th>\n",
       "      <td>26141270037</td>\n",
       "      <td>Maharashtra</td>\n",
       "      <td>14</td>\n",
       "      <td>Boy</td>\n",
       "      <td>13 years</td>\n",
       "      <td>3.0</td>\n",
       "      <td>1.0</td>\n",
       "      <td>2 siblings</td>\n",
       "      <td>No</td>\n",
       "      <td>NaN</td>\n",
       "      <td>...</td>\n",
       "      <td>Agree</td>\n",
       "      <td>Every day</td>\n",
       "      <td>Every day</td>\n",
       "      <td>Once a week</td>\n",
       "      <td>Once a week</td>\n",
       "      <td>Once a month</td>\n",
       "      <td>16.95</td>\n",
       "      <td>46.67</td>\n",
       "      <td>NaN</td>\n",
       "      <td>NaN</td>\n",
       "    </tr>\n",
       "    <tr>\n",
       "      <th>8798</th>\n",
       "      <td>26141270038</td>\n",
       "      <td>Maharashtra</td>\n",
       "      <td>14</td>\n",
       "      <td>Boy</td>\n",
       "      <td>14 years</td>\n",
       "      <td>4.0</td>\n",
       "      <td>1.0</td>\n",
       "      <td>1 sibling</td>\n",
       "      <td>No</td>\n",
       "      <td>Sr secondary</td>\n",
       "      <td>...</td>\n",
       "      <td>Agree</td>\n",
       "      <td>Every day</td>\n",
       "      <td>Every day</td>\n",
       "      <td>Once a week</td>\n",
       "      <td>Every day</td>\n",
       "      <td>Every day</td>\n",
       "      <td>24.56</td>\n",
       "      <td>55.17</td>\n",
       "      <td>NaN</td>\n",
       "      <td>NaN</td>\n",
       "    </tr>\n",
       "    <tr>\n",
       "      <th>8799</th>\n",
       "      <td>26141270039</td>\n",
       "      <td>Maharashtra</td>\n",
       "      <td>14</td>\n",
       "      <td>Boy</td>\n",
       "      <td>13 years</td>\n",
       "      <td>4.0</td>\n",
       "      <td>NaN</td>\n",
       "      <td>1 sibling</td>\n",
       "      <td>No</td>\n",
       "      <td>Sr secondary</td>\n",
       "      <td>...</td>\n",
       "      <td>Agree</td>\n",
       "      <td>Once a week</td>\n",
       "      <td>Once a week</td>\n",
       "      <td>Never</td>\n",
       "      <td>Every day</td>\n",
       "      <td>Every day</td>\n",
       "      <td>NaN</td>\n",
       "      <td>NaN</td>\n",
       "      <td>23.64</td>\n",
       "      <td>34.69</td>\n",
       "    </tr>\n",
       "    <tr>\n",
       "      <th>8800</th>\n",
       "      <td>26141270040</td>\n",
       "      <td>Maharashtra</td>\n",
       "      <td>14</td>\n",
       "      <td>Boy</td>\n",
       "      <td>13 years</td>\n",
       "      <td>4.0</td>\n",
       "      <td>NaN</td>\n",
       "      <td>1 sibling</td>\n",
       "      <td>No</td>\n",
       "      <td>Sr secondary</td>\n",
       "      <td>...</td>\n",
       "      <td>Agree</td>\n",
       "      <td>Once a week</td>\n",
       "      <td>Once a week</td>\n",
       "      <td>Once a week</td>\n",
       "      <td>Every day</td>\n",
       "      <td>Every day</td>\n",
       "      <td>NaN</td>\n",
       "      <td>NaN</td>\n",
       "      <td>27.27</td>\n",
       "      <td>30.61</td>\n",
       "    </tr>\n",
       "  </tbody>\n",
       "</table>\n",
       "<p>8801 rows × 64 columns</p>\n",
       "</div>"
      ],
      "text/plain": [
       "            STUID        State  District Gender       Age  Category  \\\n",
       "0     26011001001  Maharashtra         1   Girl  13 years       3.0   \n",
       "1     26011001002  Maharashtra         1   Girl  15 years       3.0   \n",
       "2     26011001003  Maharashtra         1   Girl  14 years       3.0   \n",
       "3     26011001004  Maharashtra         1    Boy  13 years       3.0   \n",
       "4     26011001005  Maharashtra         1   Girl  14 years       3.0   \n",
       "...           ...          ...       ...    ...       ...       ...   \n",
       "8796  26141270036  Maharashtra        14    Boy  13 years       4.0   \n",
       "8797  26141270037  Maharashtra        14    Boy  13 years       3.0   \n",
       "8798  26141270038  Maharashtra        14    Boy  14 years       4.0   \n",
       "8799  26141270039  Maharashtra        14    Boy  13 years       4.0   \n",
       "8800  26141270040  Maharashtra        14    Boy  13 years       4.0   \n",
       "\n",
       "      Same.language    Siblings Handicap      Father.edu  ...  \\\n",
       "0               2.0   1 sibling       No      Illiterate  ...   \n",
       "1               2.0  3 siblings       No             NaN  ...   \n",
       "2               2.0  3 siblings       No  Degree & above  ...   \n",
       "3               2.0  3 siblings       No       Secondary  ...   \n",
       "4               2.0  2 siblings       No         Primary  ...   \n",
       "...             ...         ...      ...             ...  ...   \n",
       "8796            1.0   1 sibling       No       Secondary  ...   \n",
       "8797            1.0  2 siblings       No             NaN  ...   \n",
       "8798            1.0   1 sibling       No    Sr secondary  ...   \n",
       "8799            NaN   1 sibling       No    Sr secondary  ...   \n",
       "8800            NaN   1 sibling       No    Sr secondary  ...   \n",
       "\n",
       "     Express.science.views     Watch.TV Read.magazine   Read.a.book  \\\n",
       "0                    Agree    Every day         Never  Once a month   \n",
       "1                    Agree  Once a week         Never         Never   \n",
       "2                    Agree    Every day  Once a month  Once a month   \n",
       "3                    Agree    Every day     Every day         Never   \n",
       "4                  Neither        Never         Never  Once a month   \n",
       "...                    ...          ...           ...           ...   \n",
       "8796                 Agree    Every day     Every day   Once a week   \n",
       "8797                 Agree    Every day     Every day   Once a week   \n",
       "8798                 Agree    Every day     Every day   Once a week   \n",
       "8799                 Agree  Once a week   Once a week         Never   \n",
       "8800                 Agree  Once a week   Once a week   Once a week   \n",
       "\n",
       "       Play.games Help.in.household Maths.. Reading.. Science.. Social..  \n",
       "0     Once a week         Every day     NaN     33.33       NaN      NaN  \n",
       "1     Once a week         Every day     NaN     62.07       NaN      NaN  \n",
       "2     Once a week         Every day     NaN     41.38       NaN      NaN  \n",
       "3       Every day         Every day   29.82       NaN       NaN      NaN  \n",
       "4     Once a week         Every day     NaN       NaN     27.27      NaN  \n",
       "...           ...               ...     ...       ...       ...      ...  \n",
       "8796    Every day         Every day     NaN       NaN     34.55    30.61  \n",
       "8797  Once a week      Once a month   16.95     46.67       NaN      NaN  \n",
       "8798    Every day         Every day   24.56     55.17       NaN      NaN  \n",
       "8799    Every day         Every day     NaN       NaN     23.64    34.69  \n",
       "8800    Every day         Every day     NaN       NaN     27.27    30.61  \n",
       "\n",
       "[8801 rows x 64 columns]"
      ]
     },
     "execution_count": 227,
     "metadata": {},
     "output_type": "execute_result"
    }
   ],
   "source": [
    "ns = pd.read_csv('nas.csv')\n",
    "ns"
   ]
  },
  {
   "cell_type": "code",
   "execution_count": 231,
   "id": "ceebfca4-a54d-414d-80df-9ddb74625ac3",
   "metadata": {},
   "outputs": [
    {
     "data": {
      "text/html": [
       "<div>\n",
       "<style scoped>\n",
       "    .dataframe tbody tr th:only-of-type {\n",
       "        vertical-align: middle;\n",
       "    }\n",
       "\n",
       "    .dataframe tbody tr th {\n",
       "        vertical-align: top;\n",
       "    }\n",
       "\n",
       "    .dataframe thead th {\n",
       "        text-align: right;\n",
       "    }\n",
       "</style>\n",
       "<table border=\"1\" class=\"dataframe\">\n",
       "  <thead>\n",
       "    <tr style=\"text-align: right;\">\n",
       "      <th></th>\n",
       "      <th>userID</th>\n",
       "      <th>placeID</th>\n",
       "      <th>rating</th>\n",
       "      <th>food_rating</th>\n",
       "      <th>service_rating</th>\n",
       "      <th>avg_rating</th>\n",
       "    </tr>\n",
       "  </thead>\n",
       "  <tbody>\n",
       "    <tr>\n",
       "      <th>0</th>\n",
       "      <td>U1077</td>\n",
       "      <td>135085</td>\n",
       "      <td>2</td>\n",
       "      <td>2</td>\n",
       "      <td>2</td>\n",
       "      <td>2.000000</td>\n",
       "    </tr>\n",
       "    <tr>\n",
       "      <th>1</th>\n",
       "      <td>U1077</td>\n",
       "      <td>135038</td>\n",
       "      <td>2</td>\n",
       "      <td>2</td>\n",
       "      <td>1</td>\n",
       "      <td>1.666667</td>\n",
       "    </tr>\n",
       "    <tr>\n",
       "      <th>2</th>\n",
       "      <td>U1077</td>\n",
       "      <td>132825</td>\n",
       "      <td>2</td>\n",
       "      <td>2</td>\n",
       "      <td>2</td>\n",
       "      <td>2.000000</td>\n",
       "    </tr>\n",
       "    <tr>\n",
       "      <th>3</th>\n",
       "      <td>U1077</td>\n",
       "      <td>135060</td>\n",
       "      <td>1</td>\n",
       "      <td>2</td>\n",
       "      <td>2</td>\n",
       "      <td>1.666667</td>\n",
       "    </tr>\n",
       "    <tr>\n",
       "      <th>4</th>\n",
       "      <td>U1068</td>\n",
       "      <td>135104</td>\n",
       "      <td>1</td>\n",
       "      <td>1</td>\n",
       "      <td>2</td>\n",
       "      <td>1.333333</td>\n",
       "    </tr>\n",
       "    <tr>\n",
       "      <th>...</th>\n",
       "      <td>...</td>\n",
       "      <td>...</td>\n",
       "      <td>...</td>\n",
       "      <td>...</td>\n",
       "      <td>...</td>\n",
       "      <td>...</td>\n",
       "    </tr>\n",
       "    <tr>\n",
       "      <th>1249</th>\n",
       "      <td>U1043</td>\n",
       "      <td>132630</td>\n",
       "      <td>1</td>\n",
       "      <td>1</td>\n",
       "      <td>1</td>\n",
       "      <td>1.000000</td>\n",
       "    </tr>\n",
       "    <tr>\n",
       "      <th>1250</th>\n",
       "      <td>U1011</td>\n",
       "      <td>132715</td>\n",
       "      <td>1</td>\n",
       "      <td>1</td>\n",
       "      <td>0</td>\n",
       "      <td>0.666667</td>\n",
       "    </tr>\n",
       "    <tr>\n",
       "      <th>1251</th>\n",
       "      <td>U1068</td>\n",
       "      <td>132733</td>\n",
       "      <td>1</td>\n",
       "      <td>1</td>\n",
       "      <td>0</td>\n",
       "      <td>0.666667</td>\n",
       "    </tr>\n",
       "    <tr>\n",
       "      <th>1252</th>\n",
       "      <td>U1068</td>\n",
       "      <td>132594</td>\n",
       "      <td>1</td>\n",
       "      <td>1</td>\n",
       "      <td>1</td>\n",
       "      <td>1.000000</td>\n",
       "    </tr>\n",
       "    <tr>\n",
       "      <th>1253</th>\n",
       "      <td>U1068</td>\n",
       "      <td>132660</td>\n",
       "      <td>0</td>\n",
       "      <td>0</td>\n",
       "      <td>0</td>\n",
       "      <td>0.000000</td>\n",
       "    </tr>\n",
       "  </tbody>\n",
       "</table>\n",
       "<p>1254 rows × 6 columns</p>\n",
       "</div>"
      ],
      "text/plain": [
       "     userID  placeID  rating  food_rating  service_rating  avg_rating\n",
       "0     U1077   135085       2            2               2    2.000000\n",
       "1     U1077   135038       2            2               1    1.666667\n",
       "2     U1077   132825       2            2               2    2.000000\n",
       "3     U1077   135060       1            2               2    1.666667\n",
       "4     U1068   135104       1            1               2    1.333333\n",
       "...     ...      ...     ...          ...             ...         ...\n",
       "1249  U1043   132630       1            1               1    1.000000\n",
       "1250  U1011   132715       1            1               0    0.666667\n",
       "1251  U1068   132733       1            1               0    0.666667\n",
       "1252  U1068   132594       1            1               1    1.000000\n",
       "1253  U1068   132660       0            0               0    0.000000\n",
       "\n",
       "[1254 rows x 6 columns]"
      ]
     },
     "execution_count": 231,
     "metadata": {},
     "output_type": "execute_result"
    }
   ],
   "source": [
    "rating = pd.read_csv('rating_final.csv')\n",
    "rating\n",
    "#create average rating\n",
    "rating['avg_rating'] = round(rating[['rating', 'food_rating', 'service_rating']].mean(axis=1))\n",
    "rating"
   ]
  },
  {
   "cell_type": "code",
   "execution_count": 232,
   "id": "619ab4e5-a6fc-49ce-88cc-dbd54ce8cc2c",
   "metadata": {},
   "outputs": [
    {
     "data": {
      "text/html": [
       "<div>\n",
       "<style scoped>\n",
       "    .dataframe tbody tr th:only-of-type {\n",
       "        vertical-align: middle;\n",
       "    }\n",
       "\n",
       "    .dataframe tbody tr th {\n",
       "        vertical-align: top;\n",
       "    }\n",
       "\n",
       "    .dataframe thead th {\n",
       "        text-align: right;\n",
       "    }\n",
       "</style>\n",
       "<table border=\"1\" class=\"dataframe\">\n",
       "  <thead>\n",
       "    <tr style=\"text-align: right;\">\n",
       "      <th></th>\n",
       "      <th>Country</th>\n",
       "      <th>Player</th>\n",
       "      <th>Runs</th>\n",
       "      <th>MatchDate</th>\n",
       "      <th>Weekday</th>\n",
       "      <th>Ground</th>\n",
       "      <th>Versus</th>\n",
       "      <th>Balls</th>\n",
       "    </tr>\n",
       "  </thead>\n",
       "  <tbody>\n",
       "    <tr>\n",
       "      <th>0</th>\n",
       "      <td>Afghanistan</td>\n",
       "      <td>Mohammad Shahzad</td>\n",
       "      <td>118</td>\n",
       "      <td>16-02-2010</td>\n",
       "      <td>Tue</td>\n",
       "      <td>Sharjah CA Stadium</td>\n",
       "      <td>Canada</td>\n",
       "      <td>121</td>\n",
       "    </tr>\n",
       "    <tr>\n",
       "      <th>1</th>\n",
       "      <td>Afghanistan</td>\n",
       "      <td>Mohammad Shahzad</td>\n",
       "      <td>110</td>\n",
       "      <td>01-09-2009</td>\n",
       "      <td>Tue</td>\n",
       "      <td>VRA Ground</td>\n",
       "      <td>Netherlands</td>\n",
       "      <td>111</td>\n",
       "    </tr>\n",
       "    <tr>\n",
       "      <th>2</th>\n",
       "      <td>Afghanistan</td>\n",
       "      <td>Mohammad Shahzad</td>\n",
       "      <td>100</td>\n",
       "      <td>16-08-2010</td>\n",
       "      <td>Mon</td>\n",
       "      <td>Cambusdoon New Ground</td>\n",
       "      <td>Scotland</td>\n",
       "      <td>72</td>\n",
       "    </tr>\n",
       "    <tr>\n",
       "      <th>3</th>\n",
       "      <td>Afghanistan</td>\n",
       "      <td>Mohammad Shahzad</td>\n",
       "      <td>82</td>\n",
       "      <td>10-07-2010</td>\n",
       "      <td>Sat</td>\n",
       "      <td>Hazelaarweg</td>\n",
       "      <td>Netherlands</td>\n",
       "      <td>108</td>\n",
       "    </tr>\n",
       "    <tr>\n",
       "      <th>4</th>\n",
       "      <td>Afghanistan</td>\n",
       "      <td>Mohammad Shahzad</td>\n",
       "      <td>57</td>\n",
       "      <td>01-07-2010</td>\n",
       "      <td>Thu</td>\n",
       "      <td>Sportpark Westvliet</td>\n",
       "      <td>Canada</td>\n",
       "      <td>57</td>\n",
       "    </tr>\n",
       "  </tbody>\n",
       "</table>\n",
       "</div>"
      ],
      "text/plain": [
       "       Country            Player  Runs   MatchDate Weekday  \\\n",
       "0  Afghanistan  Mohammad Shahzad   118  16-02-2010     Tue   \n",
       "1  Afghanistan  Mohammad Shahzad   110  01-09-2009     Tue   \n",
       "2  Afghanistan  Mohammad Shahzad   100  16-08-2010     Mon   \n",
       "3  Afghanistan  Mohammad Shahzad    82  10-07-2010     Sat   \n",
       "4  Afghanistan  Mohammad Shahzad    57  01-07-2010     Thu   \n",
       "\n",
       "                  Ground       Versus  Balls  \n",
       "0     Sharjah CA Stadium       Canada    121  \n",
       "1             VRA Ground  Netherlands    111  \n",
       "2  Cambusdoon New Ground     Scotland     72  \n",
       "3            Hazelaarweg  Netherlands    108  \n",
       "4    Sportpark Westvliet       Canada     57  "
      ]
     },
     "execution_count": 232,
     "metadata": {},
     "output_type": "execute_result"
    }
   ],
   "source": [
    "odi = pd.read_csv('odi-batting.csv')\n",
    "odi.head()"
   ]
  },
  {
   "cell_type": "code",
   "execution_count": 241,
   "id": "0d0cc29f-0360-4eaa-b84b-32af774e9d04",
   "metadata": {},
   "outputs": [
    {
     "name": "stdout",
     "output_type": "stream",
     "text": [
      "Player    48\n",
      "Runs      48\n",
      "dtype: int64\n",
      "Player    30\n",
      "Runs      30\n",
      "dtype: int64\n"
     ]
    }
   ],
   "source": [
    "odi1 = odi[['Player','Runs']]\n",
    "odi2 = odi1[(((odi1['Player']=='Sachin R Tendulkar') & (odi1['Runs']>99))|((odi1['Player']=='Ricky T Ponting')& (odi1['Runs']>99)))]\n",
    "print(odi2[((odi2['Player']=='Sachin R Tendulkar') & (odi2['Runs']>99))].count())\n",
    "print(odi2[((odi2['Player']=='Ricky T Ponting') & (odi2['Runs']>99))].count())\n",
    "\n",
    "\n"
   ]
  },
  {
   "cell_type": "code",
   "execution_count": 242,
   "id": "283f6bf8-a58d-4176-bc7e-4e9b51c0849a",
   "metadata": {},
   "outputs": [
    {
     "data": {
      "text/html": [
       "<div>\n",
       "<style scoped>\n",
       "    .dataframe tbody tr th:only-of-type {\n",
       "        vertical-align: middle;\n",
       "    }\n",
       "\n",
       "    .dataframe tbody tr th {\n",
       "        vertical-align: top;\n",
       "    }\n",
       "\n",
       "    .dataframe thead th {\n",
       "        text-align: right;\n",
       "    }\n",
       "</style>\n",
       "<table border=\"1\" class=\"dataframe\">\n",
       "  <thead>\n",
       "    <tr style=\"text-align: right;\">\n",
       "      <th></th>\n",
       "      <th>Country</th>\n",
       "      <th>Player</th>\n",
       "      <th>Runs</th>\n",
       "      <th>MatchDate</th>\n",
       "      <th>Weekday</th>\n",
       "      <th>Ground</th>\n",
       "      <th>Versus</th>\n",
       "      <th>Balls</th>\n",
       "    </tr>\n",
       "  </thead>\n",
       "  <tbody>\n",
       "    <tr>\n",
       "      <th>0</th>\n",
       "      <td>Afghanistan</td>\n",
       "      <td>Mohammad Shahzad</td>\n",
       "      <td>118</td>\n",
       "      <td>16-02-2010</td>\n",
       "      <td>Tue</td>\n",
       "      <td>Sharjah CA Stadium</td>\n",
       "      <td>Canada</td>\n",
       "      <td>121</td>\n",
       "    </tr>\n",
       "    <tr>\n",
       "      <th>1</th>\n",
       "      <td>Afghanistan</td>\n",
       "      <td>Mohammad Shahzad</td>\n",
       "      <td>110</td>\n",
       "      <td>01-09-2009</td>\n",
       "      <td>Tue</td>\n",
       "      <td>VRA Ground</td>\n",
       "      <td>Netherlands</td>\n",
       "      <td>111</td>\n",
       "    </tr>\n",
       "    <tr>\n",
       "      <th>2</th>\n",
       "      <td>Afghanistan</td>\n",
       "      <td>Mohammad Shahzad</td>\n",
       "      <td>100</td>\n",
       "      <td>16-08-2010</td>\n",
       "      <td>Mon</td>\n",
       "      <td>Cambusdoon New Ground</td>\n",
       "      <td>Scotland</td>\n",
       "      <td>72</td>\n",
       "    </tr>\n",
       "    <tr>\n",
       "      <th>3</th>\n",
       "      <td>Afghanistan</td>\n",
       "      <td>Mohammad Shahzad</td>\n",
       "      <td>82</td>\n",
       "      <td>10-07-2010</td>\n",
       "      <td>Sat</td>\n",
       "      <td>Hazelaarweg</td>\n",
       "      <td>Netherlands</td>\n",
       "      <td>108</td>\n",
       "    </tr>\n",
       "    <tr>\n",
       "      <th>4</th>\n",
       "      <td>Afghanistan</td>\n",
       "      <td>Mohammad Shahzad</td>\n",
       "      <td>57</td>\n",
       "      <td>01-07-2010</td>\n",
       "      <td>Thu</td>\n",
       "      <td>Sportpark Westvliet</td>\n",
       "      <td>Canada</td>\n",
       "      <td>57</td>\n",
       "    </tr>\n",
       "  </tbody>\n",
       "</table>\n",
       "</div>"
      ],
      "text/plain": [
       "       Country            Player  Runs   MatchDate Weekday  \\\n",
       "0  Afghanistan  Mohammad Shahzad   118  16-02-2010     Tue   \n",
       "1  Afghanistan  Mohammad Shahzad   110  01-09-2009     Tue   \n",
       "2  Afghanistan  Mohammad Shahzad   100  16-08-2010     Mon   \n",
       "3  Afghanistan  Mohammad Shahzad    82  10-07-2010     Sat   \n",
       "4  Afghanistan  Mohammad Shahzad    57  01-07-2010     Thu   \n",
       "\n",
       "                  Ground       Versus  Balls  \n",
       "0     Sharjah CA Stadium       Canada    121  \n",
       "1             VRA Ground  Netherlands    111  \n",
       "2  Cambusdoon New Ground     Scotland     72  \n",
       "3            Hazelaarweg  Netherlands    108  \n",
       "4    Sportpark Westvliet       Canada     57  "
      ]
     },
     "execution_count": 242,
     "metadata": {},
     "output_type": "execute_result"
    }
   ],
   "source": [
    "odi.head()"
   ]
  },
  {
   "cell_type": "code",
   "execution_count": 254,
   "id": "e2106949-a7d5-4162-9274-deb12cb4aa20",
   "metadata": {},
   "outputs": [
    {
     "data": {
      "text/html": [
       "<div>\n",
       "<style scoped>\n",
       "    .dataframe tbody tr th:only-of-type {\n",
       "        vertical-align: middle;\n",
       "    }\n",
       "\n",
       "    .dataframe tbody tr th {\n",
       "        vertical-align: top;\n",
       "    }\n",
       "\n",
       "    .dataframe thead th {\n",
       "        text-align: right;\n",
       "    }\n",
       "</style>\n",
       "<table border=\"1\" class=\"dataframe\">\n",
       "  <thead>\n",
       "    <tr style=\"text-align: right;\">\n",
       "      <th></th>\n",
       "      <th>Runs</th>\n",
       "      <th>MatchDate</th>\n",
       "    </tr>\n",
       "  </thead>\n",
       "  <tbody>\n",
       "    <tr>\n",
       "      <th>13601</th>\n",
       "      <td>200</td>\n",
       "      <td>2010</td>\n",
       "    </tr>\n",
       "    <tr>\n",
       "      <th>13602</th>\n",
       "      <td>186</td>\n",
       "      <td>1999</td>\n",
       "    </tr>\n",
       "    <tr>\n",
       "      <th>13603</th>\n",
       "      <td>175</td>\n",
       "      <td>2009</td>\n",
       "    </tr>\n",
       "    <tr>\n",
       "      <th>13604</th>\n",
       "      <td>163</td>\n",
       "      <td>2009</td>\n",
       "    </tr>\n",
       "    <tr>\n",
       "      <th>13605</th>\n",
       "      <td>152</td>\n",
       "      <td>2003</td>\n",
       "    </tr>\n",
       "    <tr>\n",
       "      <th>...</th>\n",
       "      <td>...</td>\n",
       "      <td>...</td>\n",
       "    </tr>\n",
       "    <tr>\n",
       "      <th>18180</th>\n",
       "      <td>123</td>\n",
       "      <td>2010</td>\n",
       "    </tr>\n",
       "    <tr>\n",
       "      <th>18181</th>\n",
       "      <td>105</td>\n",
       "      <td>2011</td>\n",
       "    </tr>\n",
       "    <tr>\n",
       "      <th>18244</th>\n",
       "      <td>102</td>\n",
       "      <td>1986</td>\n",
       "    </tr>\n",
       "    <tr>\n",
       "      <th>18467</th>\n",
       "      <td>114</td>\n",
       "      <td>1992</td>\n",
       "    </tr>\n",
       "    <tr>\n",
       "      <th>18636</th>\n",
       "      <td>101</td>\n",
       "      <td>1989</td>\n",
       "    </tr>\n",
       "  </tbody>\n",
       "</table>\n",
       "<p>190 rows × 2 columns</p>\n",
       "</div>"
      ],
      "text/plain": [
       "       Runs  MatchDate\n",
       "13601   200       2010\n",
       "13602   186       1999\n",
       "13603   175       2009\n",
       "13604   163       2009\n",
       "13605   152       2003\n",
       "...     ...        ...\n",
       "18180   123       2010\n",
       "18181   105       2011\n",
       "18244   102       1986\n",
       "18467   114       1992\n",
       "18636   101       1989\n",
       "\n",
       "[190 rows x 2 columns]"
      ]
     },
     "execution_count": 254,
     "metadata": {},
     "output_type": "execute_result"
    }
   ],
   "source": [
    "odi.Country.value_counts()\n",
    "odi_india = odi[odi['Country']=='India']\n",
    "odi_india1 = odi_india[odi_india['Runs']>99]\n",
    "odi_india12 = odi_india1[['Runs','MatchDate']]\n",
    "odi_india12.value_counts()\n",
    "\n",
    "odi_india12['MatchDate'] = pd.to_datetime(odi_india12['MatchDate'], format='%d-%m-%Y')\n",
    "\n",
    "# Extract the year\n",
    "odi_india12['MatchDate'] = odi_india12['MatchDate'].dt.year\n",
    "odi_india12"
   ]
  },
  {
   "cell_type": "code",
   "execution_count": 257,
   "id": "b7594af0-a2b9-40ce-94d9-6bb0bbcc4e80",
   "metadata": {},
   "outputs": [
    {
     "data": {
      "text/plain": [
       "<bound method DataFrame.max of     MatchDate  Runs\n",
       "0        1983     1\n",
       "1        1984     3\n",
       "2        1986     2\n",
       "3        1987     4\n",
       "4        1988     5\n",
       "5        1989     2\n",
       "6        1990     3\n",
       "7        1991     2\n",
       "8        1992     1\n",
       "9        1993     2\n",
       "10       1994     7\n",
       "11       1995     1\n",
       "12       1996     8\n",
       "13       1997     7\n",
       "14       1998    18\n",
       "15       1999    15\n",
       "16       2000    10\n",
       "17       2001     9\n",
       "18       2002     9\n",
       "19       2003    10\n",
       "20       2004     7\n",
       "21       2005    11\n",
       "22       2006     5\n",
       "23       2007     5\n",
       "24       2008    10\n",
       "25       2009    13\n",
       "26       2010    12\n",
       "27       2011     8>"
      ]
     },
     "execution_count": 257,
     "metadata": {},
     "output_type": "execute_result"
    }
   ],
   "source": [
    "centuries_per_year_team = odi_india12.groupby(['MatchDate'])['Runs'].count().reset_index()\n",
    "centuries_per_year_team.max"
   ]
  },
  {
   "cell_type": "code",
   "execution_count": 259,
   "id": "23669fa1-c6e1-4714-8ae8-706a3b5a2a12",
   "metadata": {},
   "outputs": [
    {
     "data": {
      "text/html": [
       "<div>\n",
       "<style scoped>\n",
       "    .dataframe tbody tr th:only-of-type {\n",
       "        vertical-align: middle;\n",
       "    }\n",
       "\n",
       "    .dataframe tbody tr th {\n",
       "        vertical-align: top;\n",
       "    }\n",
       "\n",
       "    .dataframe thead th {\n",
       "        text-align: right;\n",
       "    }\n",
       "</style>\n",
       "<table border=\"1\" class=\"dataframe\">\n",
       "  <thead>\n",
       "    <tr style=\"text-align: right;\">\n",
       "      <th></th>\n",
       "      <th>Order_ID</th>\n",
       "      <th>Order_Date</th>\n",
       "      <th>Order_Priority</th>\n",
       "      <th>Ord_id</th>\n",
       "    </tr>\n",
       "  </thead>\n",
       "  <tbody>\n",
       "    <tr>\n",
       "      <th>0</th>\n",
       "      <td>3</td>\n",
       "      <td>13-10-2010</td>\n",
       "      <td>LOW</td>\n",
       "      <td>Ord_1</td>\n",
       "    </tr>\n",
       "    <tr>\n",
       "      <th>1</th>\n",
       "      <td>293</td>\n",
       "      <td>01-10-2012</td>\n",
       "      <td>HIGH</td>\n",
       "      <td>Ord_2</td>\n",
       "    </tr>\n",
       "    <tr>\n",
       "      <th>2</th>\n",
       "      <td>483</td>\n",
       "      <td>10-07-2011</td>\n",
       "      <td>HIGH</td>\n",
       "      <td>Ord_3</td>\n",
       "    </tr>\n",
       "    <tr>\n",
       "      <th>3</th>\n",
       "      <td>515</td>\n",
       "      <td>28-08-2010</td>\n",
       "      <td>NOT SPECIFIED</td>\n",
       "      <td>Ord_4</td>\n",
       "    </tr>\n",
       "    <tr>\n",
       "      <th>4</th>\n",
       "      <td>613</td>\n",
       "      <td>17-06-2011</td>\n",
       "      <td>HIGH</td>\n",
       "      <td>Ord_5</td>\n",
       "    </tr>\n",
       "    <tr>\n",
       "      <th>...</th>\n",
       "      <td>...</td>\n",
       "      <td>...</td>\n",
       "      <td>...</td>\n",
       "      <td>...</td>\n",
       "    </tr>\n",
       "    <tr>\n",
       "      <th>5501</th>\n",
       "      <td>47360</td>\n",
       "      <td>08-10-2010</td>\n",
       "      <td>NOT SPECIFIED</td>\n",
       "      <td>Ord_5502</td>\n",
       "    </tr>\n",
       "    <tr>\n",
       "      <th>5502</th>\n",
       "      <td>52706</td>\n",
       "      <td>09-07-2012</td>\n",
       "      <td>LOW</td>\n",
       "      <td>Ord_5503</td>\n",
       "    </tr>\n",
       "    <tr>\n",
       "      <th>5503</th>\n",
       "      <td>54279</td>\n",
       "      <td>30-07-2011</td>\n",
       "      <td>HIGH</td>\n",
       "      <td>Ord_5504</td>\n",
       "    </tr>\n",
       "    <tr>\n",
       "      <th>5504</th>\n",
       "      <td>55558</td>\n",
       "      <td>09-08-2010</td>\n",
       "      <td>MEDIUM</td>\n",
       "      <td>Ord_5505</td>\n",
       "    </tr>\n",
       "    <tr>\n",
       "      <th>5505</th>\n",
       "      <td>56581</td>\n",
       "      <td>08-02-2009</td>\n",
       "      <td>HIGH</td>\n",
       "      <td>Ord_5506</td>\n",
       "    </tr>\n",
       "  </tbody>\n",
       "</table>\n",
       "<p>5506 rows × 4 columns</p>\n",
       "</div>"
      ],
      "text/plain": [
       "      Order_ID  Order_Date Order_Priority    Ord_id\n",
       "0            3  13-10-2010            LOW     Ord_1\n",
       "1          293  01-10-2012           HIGH     Ord_2\n",
       "2          483  10-07-2011           HIGH     Ord_3\n",
       "3          515  28-08-2010  NOT SPECIFIED     Ord_4\n",
       "4          613  17-06-2011           HIGH     Ord_5\n",
       "...        ...         ...            ...       ...\n",
       "5501     47360  08-10-2010  NOT SPECIFIED  Ord_5502\n",
       "5502     52706  09-07-2012            LOW  Ord_5503\n",
       "5503     54279  30-07-2011           HIGH  Ord_5504\n",
       "5504     55558  09-08-2010         MEDIUM  Ord_5505\n",
       "5505     56581  08-02-2009           HIGH  Ord_5506\n",
       "\n",
       "[5506 rows x 4 columns]"
      ]
     },
     "execution_count": 259,
     "metadata": {},
     "output_type": "execute_result"
    }
   ],
   "source": [
    "order = pd.read_csv('orders_dimen.csv')\n",
    "order"
   ]
  },
  {
   "cell_type": "code",
   "execution_count": 260,
   "id": "e01d9124-b713-423b-91a2-ef5f438c5fea",
   "metadata": {},
   "outputs": [],
   "source": [
    "order['Order_Date'] = pd.to_datetime(order['Order_Date'])"
   ]
  },
  {
   "cell_type": "code",
   "execution_count": 261,
   "id": "b6ab069a-39bc-440e-befb-efa7ecdf251e",
   "metadata": {},
   "outputs": [
    {
     "data": {
      "text/html": [
       "<div>\n",
       "<style scoped>\n",
       "    .dataframe tbody tr th:only-of-type {\n",
       "        vertical-align: middle;\n",
       "    }\n",
       "\n",
       "    .dataframe tbody tr th {\n",
       "        vertical-align: top;\n",
       "    }\n",
       "\n",
       "    .dataframe thead th {\n",
       "        text-align: right;\n",
       "    }\n",
       "</style>\n",
       "<table border=\"1\" class=\"dataframe\">\n",
       "  <thead>\n",
       "    <tr style=\"text-align: right;\">\n",
       "      <th></th>\n",
       "      <th>Order_ID</th>\n",
       "      <th>Order_Date</th>\n",
       "      <th>Order_Priority</th>\n",
       "      <th>Ord_id</th>\n",
       "      <th>day</th>\n",
       "    </tr>\n",
       "  </thead>\n",
       "  <tbody>\n",
       "    <tr>\n",
       "      <th>0</th>\n",
       "      <td>3</td>\n",
       "      <td>2010-10-13</td>\n",
       "      <td>LOW</td>\n",
       "      <td>Ord_1</td>\n",
       "      <td>13</td>\n",
       "    </tr>\n",
       "    <tr>\n",
       "      <th>1</th>\n",
       "      <td>293</td>\n",
       "      <td>2012-10-01</td>\n",
       "      <td>HIGH</td>\n",
       "      <td>Ord_2</td>\n",
       "      <td>1</td>\n",
       "    </tr>\n",
       "    <tr>\n",
       "      <th>2</th>\n",
       "      <td>483</td>\n",
       "      <td>2011-07-10</td>\n",
       "      <td>HIGH</td>\n",
       "      <td>Ord_3</td>\n",
       "      <td>10</td>\n",
       "    </tr>\n",
       "    <tr>\n",
       "      <th>3</th>\n",
       "      <td>515</td>\n",
       "      <td>2010-08-28</td>\n",
       "      <td>NOT SPECIFIED</td>\n",
       "      <td>Ord_4</td>\n",
       "      <td>28</td>\n",
       "    </tr>\n",
       "    <tr>\n",
       "      <th>4</th>\n",
       "      <td>613</td>\n",
       "      <td>2011-06-17</td>\n",
       "      <td>HIGH</td>\n",
       "      <td>Ord_5</td>\n",
       "      <td>17</td>\n",
       "    </tr>\n",
       "    <tr>\n",
       "      <th>5</th>\n",
       "      <td>643</td>\n",
       "      <td>2011-03-24</td>\n",
       "      <td>HIGH</td>\n",
       "      <td>Ord_6</td>\n",
       "      <td>24</td>\n",
       "    </tr>\n",
       "    <tr>\n",
       "      <th>6</th>\n",
       "      <td>678</td>\n",
       "      <td>2010-02-26</td>\n",
       "      <td>LOW</td>\n",
       "      <td>Ord_7</td>\n",
       "      <td>26</td>\n",
       "    </tr>\n",
       "    <tr>\n",
       "      <th>7</th>\n",
       "      <td>807</td>\n",
       "      <td>2010-11-23</td>\n",
       "      <td>MEDIUM</td>\n",
       "      <td>Ord_8</td>\n",
       "      <td>23</td>\n",
       "    </tr>\n",
       "    <tr>\n",
       "      <th>8</th>\n",
       "      <td>868</td>\n",
       "      <td>2012-06-08</td>\n",
       "      <td>NOT SPECIFIED</td>\n",
       "      <td>Ord_9</td>\n",
       "      <td>8</td>\n",
       "    </tr>\n",
       "    <tr>\n",
       "      <th>9</th>\n",
       "      <td>933</td>\n",
       "      <td>2012-08-04</td>\n",
       "      <td>NOT SPECIFIED</td>\n",
       "      <td>Ord_10</td>\n",
       "      <td>4</td>\n",
       "    </tr>\n",
       "  </tbody>\n",
       "</table>\n",
       "</div>"
      ],
      "text/plain": [
       "   Order_ID Order_Date Order_Priority  Ord_id  day\n",
       "0         3 2010-10-13            LOW   Ord_1   13\n",
       "1       293 2012-10-01           HIGH   Ord_2    1\n",
       "2       483 2011-07-10           HIGH   Ord_3   10\n",
       "3       515 2010-08-28  NOT SPECIFIED   Ord_4   28\n",
       "4       613 2011-06-17           HIGH   Ord_5   17\n",
       "5       643 2011-03-24           HIGH   Ord_6   24\n",
       "6       678 2010-02-26            LOW   Ord_7   26\n",
       "7       807 2010-11-23         MEDIUM   Ord_8   23\n",
       "8       868 2012-06-08  NOT SPECIFIED   Ord_9    8\n",
       "9       933 2012-08-04  NOT SPECIFIED  Ord_10    4"
      ]
     },
     "execution_count": 261,
     "metadata": {},
     "output_type": "execute_result"
    }
   ],
   "source": [
    "order['day'] = order['Order_Date'].dt.day\n",
    "order.head(10)"
   ]
  },
  {
   "cell_type": "markdown",
   "id": "a12e995b-999f-4982-8b8a-0285b8ea3b60",
   "metadata": {},
   "source": [
    "### Grded Questions Defvied Metrics"
   ]
  },
  {
   "cell_type": "code",
   "execution_count": 263,
   "id": "f1f8f335-a720-4747-be64-e9f84cb0855c",
   "metadata": {},
   "outputs": [
    {
     "data": {
      "text/plain": [
       "(198, 2)"
      ]
     },
     "execution_count": 263,
     "metadata": {},
     "output_type": "execute_result"
    }
   ],
   "source": [
    "grades = pd.read_csv('grades.csv')\n",
    "grades.head()\n",
    "grades.shape"
   ]
  },
  {
   "cell_type": "code",
   "execution_count": 264,
   "id": "4adf1bc8-ffe7-4c8b-82ab-ad02bd2d78e7",
   "metadata": {},
   "outputs": [
    {
     "data": {
      "text/plain": [
       "Index(['submission', 'submit_time'], dtype='object')"
      ]
     },
     "execution_count": 264,
     "metadata": {},
     "output_type": "execute_result"
    }
   ],
   "source": [
    "##Extract all the relevant metrics (such as the date, day, month, year, hour, and minutes) of each person’s submission \n",
    "grades.columns\n"
   ]
  },
  {
   "cell_type": "code",
   "execution_count": 266,
   "id": "7eabebb3-d3a9-4c80-8671-598ff2089332",
   "metadata": {},
   "outputs": [
    {
     "data": {
      "text/html": [
       "<div>\n",
       "<style scoped>\n",
       "    .dataframe tbody tr th:only-of-type {\n",
       "        vertical-align: middle;\n",
       "    }\n",
       "\n",
       "    .dataframe tbody tr th {\n",
       "        vertical-align: top;\n",
       "    }\n",
       "\n",
       "    .dataframe thead th {\n",
       "        text-align: right;\n",
       "    }\n",
       "</style>\n",
       "<table border=\"1\" class=\"dataframe\">\n",
       "  <thead>\n",
       "    <tr style=\"text-align: right;\">\n",
       "      <th></th>\n",
       "      <th>submission</th>\n",
       "      <th>submit_time</th>\n",
       "    </tr>\n",
       "  </thead>\n",
       "  <tbody>\n",
       "    <tr>\n",
       "      <th>0</th>\n",
       "      <td>https://ckd.upgrad.com/UpGrad/73ba5189-94fd-44...</td>\n",
       "      <td>01/03/17-20:28:52</td>\n",
       "    </tr>\n",
       "    <tr>\n",
       "      <th>1</th>\n",
       "      <td>https://ckd.upgrad.com/UpGrad/185242ff-7508-4c...</td>\n",
       "      <td>01/03/17-20:18:21</td>\n",
       "    </tr>\n",
       "    <tr>\n",
       "      <th>2</th>\n",
       "      <td>https://ckd.upgrad.com/UpGrad/a353d129-c100-43...</td>\n",
       "      <td>01/03/17-22:37:08</td>\n",
       "    </tr>\n",
       "    <tr>\n",
       "      <th>3</th>\n",
       "      <td>https://ckd.upgrad.com/UpGrad/002fc912-faa1-49...</td>\n",
       "      <td>01/02/17-21:43:19</td>\n",
       "    </tr>\n",
       "    <tr>\n",
       "      <th>4</th>\n",
       "      <td>https://ckd.upgrad.com/UpGrad/25cbc4a4-6d49-4f...</td>\n",
       "      <td>01/03/17-15:27:49</td>\n",
       "    </tr>\n",
       "    <tr>\n",
       "      <th>...</th>\n",
       "      <td>...</td>\n",
       "      <td>...</td>\n",
       "    </tr>\n",
       "    <tr>\n",
       "      <th>193</th>\n",
       "      <td>https://ckd.upgrad.com/UpGrad/ba485323-bba6-4b...</td>\n",
       "      <td>01/03/17-22:43:12</td>\n",
       "    </tr>\n",
       "    <tr>\n",
       "      <th>194</th>\n",
       "      <td>https://ckd.upgrad.com/UpGrad/a65694d0-339b-44...</td>\n",
       "      <td>01/09/17-23:59:34</td>\n",
       "    </tr>\n",
       "    <tr>\n",
       "      <th>195</th>\n",
       "      <td>https://ckd.upgrad.com/UpGrad/c3876ddf-2b2f-4a...</td>\n",
       "      <td>12/19/16-21:44:13</td>\n",
       "    </tr>\n",
       "    <tr>\n",
       "      <th>196</th>\n",
       "      <td>https://ckd.upgrad.com/UpGrad/2b9732ad-0985-4a...</td>\n",
       "      <td>01/09/17-23:23:06</td>\n",
       "    </tr>\n",
       "    <tr>\n",
       "      <th>197</th>\n",
       "      <td>https://ckd.upgrad.com/UpGrad/21da378c-75a4-4a...</td>\n",
       "      <td>01/03/17-22:32:38</td>\n",
       "    </tr>\n",
       "  </tbody>\n",
       "</table>\n",
       "<p>198 rows × 2 columns</p>\n",
       "</div>"
      ],
      "text/plain": [
       "                                            submission        submit_time\n",
       "0    https://ckd.upgrad.com/UpGrad/73ba5189-94fd-44...  01/03/17-20:28:52\n",
       "1    https://ckd.upgrad.com/UpGrad/185242ff-7508-4c...  01/03/17-20:18:21\n",
       "2    https://ckd.upgrad.com/UpGrad/a353d129-c100-43...  01/03/17-22:37:08\n",
       "3    https://ckd.upgrad.com/UpGrad/002fc912-faa1-49...  01/02/17-21:43:19\n",
       "4    https://ckd.upgrad.com/UpGrad/25cbc4a4-6d49-4f...  01/03/17-15:27:49\n",
       "..                                                 ...                ...\n",
       "193  https://ckd.upgrad.com/UpGrad/ba485323-bba6-4b...  01/03/17-22:43:12\n",
       "194  https://ckd.upgrad.com/UpGrad/a65694d0-339b-44...  01/09/17-23:59:34\n",
       "195  https://ckd.upgrad.com/UpGrad/c3876ddf-2b2f-4a...  12/19/16-21:44:13\n",
       "196  https://ckd.upgrad.com/UpGrad/2b9732ad-0985-4a...  01/09/17-23:23:06\n",
       "197  https://ckd.upgrad.com/UpGrad/21da378c-75a4-4a...  01/03/17-22:32:38\n",
       "\n",
       "[198 rows x 2 columns]"
      ]
     },
     "execution_count": 266,
     "metadata": {},
     "output_type": "execute_result"
    }
   ],
   "source": [
    "grades\n"
   ]
  },
  {
   "cell_type": "code",
   "execution_count": 267,
   "id": "0d14b64f-1907-4748-a3e6-5db46fd86c85",
   "metadata": {},
   "outputs": [
    {
     "data": {
      "text/html": [
       "<div>\n",
       "<style scoped>\n",
       "    .dataframe tbody tr th:only-of-type {\n",
       "        vertical-align: middle;\n",
       "    }\n",
       "\n",
       "    .dataframe tbody tr th {\n",
       "        vertical-align: top;\n",
       "    }\n",
       "\n",
       "    .dataframe thead th {\n",
       "        text-align: right;\n",
       "    }\n",
       "</style>\n",
       "<table border=\"1\" class=\"dataframe\">\n",
       "  <thead>\n",
       "    <tr style=\"text-align: right;\">\n",
       "      <th></th>\n",
       "      <th>submission</th>\n",
       "      <th>submit_time</th>\n",
       "      <th>file_extension</th>\n",
       "    </tr>\n",
       "  </thead>\n",
       "  <tbody>\n",
       "    <tr>\n",
       "      <th>0</th>\n",
       "      <td>https://ckd.upgrad.com/UpGrad/73ba5189-94fd-44...</td>\n",
       "      <td>01/03/17-20:28:52</td>\n",
       "      <td>zip</td>\n",
       "    </tr>\n",
       "    <tr>\n",
       "      <th>1</th>\n",
       "      <td>https://ckd.upgrad.com/UpGrad/185242ff-7508-4c...</td>\n",
       "      <td>01/03/17-20:18:21</td>\n",
       "      <td>zip</td>\n",
       "    </tr>\n",
       "    <tr>\n",
       "      <th>2</th>\n",
       "      <td>https://ckd.upgrad.com/UpGrad/a353d129-c100-43...</td>\n",
       "      <td>01/03/17-22:37:08</td>\n",
       "      <td>zip</td>\n",
       "    </tr>\n",
       "    <tr>\n",
       "      <th>3</th>\n",
       "      <td>https://ckd.upgrad.com/UpGrad/002fc912-faa1-49...</td>\n",
       "      <td>01/02/17-21:43:19</td>\n",
       "      <td>zip</td>\n",
       "    </tr>\n",
       "    <tr>\n",
       "      <th>4</th>\n",
       "      <td>https://ckd.upgrad.com/UpGrad/25cbc4a4-6d49-4f...</td>\n",
       "      <td>01/03/17-15:27:49</td>\n",
       "      <td>zip</td>\n",
       "    </tr>\n",
       "    <tr>\n",
       "      <th>...</th>\n",
       "      <td>...</td>\n",
       "      <td>...</td>\n",
       "      <td>...</td>\n",
       "    </tr>\n",
       "    <tr>\n",
       "      <th>193</th>\n",
       "      <td>https://ckd.upgrad.com/UpGrad/ba485323-bba6-4b...</td>\n",
       "      <td>01/03/17-22:43:12</td>\n",
       "      <td>zip</td>\n",
       "    </tr>\n",
       "    <tr>\n",
       "      <th>194</th>\n",
       "      <td>https://ckd.upgrad.com/UpGrad/a65694d0-339b-44...</td>\n",
       "      <td>01/09/17-23:59:34</td>\n",
       "      <td>zip</td>\n",
       "    </tr>\n",
       "    <tr>\n",
       "      <th>195</th>\n",
       "      <td>https://ckd.upgrad.com/UpGrad/c3876ddf-2b2f-4a...</td>\n",
       "      <td>12/19/16-21:44:13</td>\n",
       "      <td>zip</td>\n",
       "    </tr>\n",
       "    <tr>\n",
       "      <th>196</th>\n",
       "      <td>https://ckd.upgrad.com/UpGrad/2b9732ad-0985-4a...</td>\n",
       "      <td>01/09/17-23:23:06</td>\n",
       "      <td>R</td>\n",
       "    </tr>\n",
       "    <tr>\n",
       "      <th>197</th>\n",
       "      <td>https://ckd.upgrad.com/UpGrad/21da378c-75a4-4a...</td>\n",
       "      <td>01/03/17-22:32:38</td>\n",
       "      <td>zip</td>\n",
       "    </tr>\n",
       "  </tbody>\n",
       "</table>\n",
       "<p>198 rows × 3 columns</p>\n",
       "</div>"
      ],
      "text/plain": [
       "                                            submission        submit_time  \\\n",
       "0    https://ckd.upgrad.com/UpGrad/73ba5189-94fd-44...  01/03/17-20:28:52   \n",
       "1    https://ckd.upgrad.com/UpGrad/185242ff-7508-4c...  01/03/17-20:18:21   \n",
       "2    https://ckd.upgrad.com/UpGrad/a353d129-c100-43...  01/03/17-22:37:08   \n",
       "3    https://ckd.upgrad.com/UpGrad/002fc912-faa1-49...  01/02/17-21:43:19   \n",
       "4    https://ckd.upgrad.com/UpGrad/25cbc4a4-6d49-4f...  01/03/17-15:27:49   \n",
       "..                                                 ...                ...   \n",
       "193  https://ckd.upgrad.com/UpGrad/ba485323-bba6-4b...  01/03/17-22:43:12   \n",
       "194  https://ckd.upgrad.com/UpGrad/a65694d0-339b-44...  01/09/17-23:59:34   \n",
       "195  https://ckd.upgrad.com/UpGrad/c3876ddf-2b2f-4a...  12/19/16-21:44:13   \n",
       "196  https://ckd.upgrad.com/UpGrad/2b9732ad-0985-4a...  01/09/17-23:23:06   \n",
       "197  https://ckd.upgrad.com/UpGrad/21da378c-75a4-4a...  01/03/17-22:32:38   \n",
       "\n",
       "    file_extension  \n",
       "0              zip  \n",
       "1              zip  \n",
       "2              zip  \n",
       "3              zip  \n",
       "4              zip  \n",
       "..             ...  \n",
       "193            zip  \n",
       "194            zip  \n",
       "195            zip  \n",
       "196              R  \n",
       "197            zip  \n",
       "\n",
       "[198 rows x 3 columns]"
      ]
     },
     "execution_count": 267,
     "metadata": {},
     "output_type": "execute_result"
    }
   ],
   "source": [
    "#spilt file etension and placed another column\n",
    "\n",
    "def get_file_extension(url):\n",
    "    return url.split('.')[-1]\n",
    "\n",
    "# Apply the function to the URL column\n",
    "grades['file_extension'] = grades['submission'].apply(get_file_extension)\n",
    "grades"
   ]
  },
  {
   "cell_type": "code",
   "execution_count": 269,
   "id": "24f1b1cc-d46d-43b2-86b9-1905b6a610e7",
   "metadata": {},
   "outputs": [
    {
     "data": {
      "text/plain": [
       "file_extension\n",
       "zip    95.454545\n",
       "R       3.535354\n",
       "7z      1.010101\n",
       "Name: proportion, dtype: float64"
      ]
     },
     "execution_count": 269,
     "metadata": {},
     "output_type": "execute_result"
    }
   ],
   "source": [
    "# find percentage of .zip extensions\n",
    "extension_counts = grades['file_extension'].value_counts(normalize=True) * 100\n",
    "extension_counts"
   ]
  },
  {
   "cell_type": "code",
   "execution_count": 276,
   "id": "ba4c7bcf-2e20-4030-b6fd-701304f07ca2",
   "metadata": {},
   "outputs": [
    {
     "data": {
      "text/plain": [
       "(44, 4)"
      ]
     },
     "execution_count": 276,
     "metadata": {},
     "output_type": "execute_result"
    }
   ],
   "source": [
    "#first dead line - Jan 3, 2017 - 11:59:59 PM\n",
    "# second dead line - Jan 9, 2017 - 11:59 PM\n",
    "#How many students submitted the assignment after the first deadline (including the students who submitted after the second deadline) ?\n",
    "\n",
    "#first change date string to date object\n",
    "grades['submit_time'] = pd.to_datetime(grades['submit_time'], format='%m/%d/%y-%H:%M:%S')\n",
    "grades\n",
    "\n",
    "specific_datetime = pd.Timestamp('2017-01-03 23:59:59')\n",
    "\n",
    "# Perform the comparison\n",
    "grades['is_after'] = grades['submit_time'] > specific_datetime\n",
    "## count of students submitted after first dead line\n",
    "grades2 = grades[(grades['submit_time'] > specific_datetime)]\n",
    "grades2.shape\n",
    "\n"
   ]
  },
  {
   "cell_type": "code",
   "execution_count": 278,
   "id": "c5ffadaf-6ce7-44a1-9b51-0f8fd87d6e80",
   "metadata": {},
   "outputs": [
    {
     "data": {
      "text/plain": [
       "day\n",
       "3     121\n",
       "9      21\n",
       "2      14\n",
       "4      12\n",
       "30      6\n",
       "1       6\n",
       "10      3\n",
       "8       3\n",
       "28      2\n",
       "29      2\n",
       "19      2\n",
       "7       2\n",
       "17      1\n",
       "21      1\n",
       "6       1\n",
       "31      1\n",
       "Name: count, dtype: int64"
      ]
     },
     "execution_count": 278,
     "metadata": {},
     "output_type": "execute_result"
    }
   ],
   "source": [
    "## Which date most students are submitted\n",
    "grades['day'] = grades['submit_time'].dt.day\n",
    "grades['day'].value_counts()"
   ]
  },
  {
   "cell_type": "code",
   "execution_count": 280,
   "id": "02f07cd0-64d5-49d5-b89c-1a88898136b7",
   "metadata": {},
   "outputs": [
    {
     "data": {
      "text/html": [
       "<div>\n",
       "<style scoped>\n",
       "    .dataframe tbody tr th:only-of-type {\n",
       "        vertical-align: middle;\n",
       "    }\n",
       "\n",
       "    .dataframe tbody tr th {\n",
       "        vertical-align: top;\n",
       "    }\n",
       "\n",
       "    .dataframe thead th {\n",
       "        text-align: right;\n",
       "    }\n",
       "</style>\n",
       "<table border=\"1\" class=\"dataframe\">\n",
       "  <thead>\n",
       "    <tr style=\"text-align: right;\">\n",
       "      <th></th>\n",
       "      <th>submission</th>\n",
       "      <th>submit_time</th>\n",
       "      <th>file_extension</th>\n",
       "      <th>is_after</th>\n",
       "      <th>day</th>\n",
       "      <th>hour</th>\n",
       "    </tr>\n",
       "  </thead>\n",
       "  <tbody>\n",
       "    <tr>\n",
       "      <th>0</th>\n",
       "      <td>https://ckd.upgrad.com/UpGrad/73ba5189-94fd-44...</td>\n",
       "      <td>2017-01-03 20:28:52</td>\n",
       "      <td>zip</td>\n",
       "      <td>False</td>\n",
       "      <td>3</td>\n",
       "      <td>20</td>\n",
       "    </tr>\n",
       "    <tr>\n",
       "      <th>1</th>\n",
       "      <td>https://ckd.upgrad.com/UpGrad/185242ff-7508-4c...</td>\n",
       "      <td>2017-01-03 20:18:21</td>\n",
       "      <td>zip</td>\n",
       "      <td>False</td>\n",
       "      <td>3</td>\n",
       "      <td>20</td>\n",
       "    </tr>\n",
       "    <tr>\n",
       "      <th>2</th>\n",
       "      <td>https://ckd.upgrad.com/UpGrad/a353d129-c100-43...</td>\n",
       "      <td>2017-01-03 22:37:08</td>\n",
       "      <td>zip</td>\n",
       "      <td>False</td>\n",
       "      <td>3</td>\n",
       "      <td>22</td>\n",
       "    </tr>\n",
       "    <tr>\n",
       "      <th>3</th>\n",
       "      <td>https://ckd.upgrad.com/UpGrad/002fc912-faa1-49...</td>\n",
       "      <td>2017-01-02 21:43:19</td>\n",
       "      <td>zip</td>\n",
       "      <td>False</td>\n",
       "      <td>2</td>\n",
       "      <td>21</td>\n",
       "    </tr>\n",
       "    <tr>\n",
       "      <th>4</th>\n",
       "      <td>https://ckd.upgrad.com/UpGrad/25cbc4a4-6d49-4f...</td>\n",
       "      <td>2017-01-03 15:27:49</td>\n",
       "      <td>zip</td>\n",
       "      <td>False</td>\n",
       "      <td>3</td>\n",
       "      <td>15</td>\n",
       "    </tr>\n",
       "    <tr>\n",
       "      <th>...</th>\n",
       "      <td>...</td>\n",
       "      <td>...</td>\n",
       "      <td>...</td>\n",
       "      <td>...</td>\n",
       "      <td>...</td>\n",
       "      <td>...</td>\n",
       "    </tr>\n",
       "    <tr>\n",
       "      <th>193</th>\n",
       "      <td>https://ckd.upgrad.com/UpGrad/ba485323-bba6-4b...</td>\n",
       "      <td>2017-01-03 22:43:12</td>\n",
       "      <td>zip</td>\n",
       "      <td>False</td>\n",
       "      <td>3</td>\n",
       "      <td>22</td>\n",
       "    </tr>\n",
       "    <tr>\n",
       "      <th>194</th>\n",
       "      <td>https://ckd.upgrad.com/UpGrad/a65694d0-339b-44...</td>\n",
       "      <td>2017-01-09 23:59:34</td>\n",
       "      <td>zip</td>\n",
       "      <td>True</td>\n",
       "      <td>9</td>\n",
       "      <td>23</td>\n",
       "    </tr>\n",
       "    <tr>\n",
       "      <th>195</th>\n",
       "      <td>https://ckd.upgrad.com/UpGrad/c3876ddf-2b2f-4a...</td>\n",
       "      <td>2016-12-19 21:44:13</td>\n",
       "      <td>zip</td>\n",
       "      <td>False</td>\n",
       "      <td>19</td>\n",
       "      <td>21</td>\n",
       "    </tr>\n",
       "    <tr>\n",
       "      <th>196</th>\n",
       "      <td>https://ckd.upgrad.com/UpGrad/2b9732ad-0985-4a...</td>\n",
       "      <td>2017-01-09 23:23:06</td>\n",
       "      <td>R</td>\n",
       "      <td>True</td>\n",
       "      <td>9</td>\n",
       "      <td>23</td>\n",
       "    </tr>\n",
       "    <tr>\n",
       "      <th>197</th>\n",
       "      <td>https://ckd.upgrad.com/UpGrad/21da378c-75a4-4a...</td>\n",
       "      <td>2017-01-03 22:32:38</td>\n",
       "      <td>zip</td>\n",
       "      <td>False</td>\n",
       "      <td>3</td>\n",
       "      <td>22</td>\n",
       "    </tr>\n",
       "  </tbody>\n",
       "</table>\n",
       "<p>198 rows × 6 columns</p>\n",
       "</div>"
      ],
      "text/plain": [
       "                                            submission         submit_time  \\\n",
       "0    https://ckd.upgrad.com/UpGrad/73ba5189-94fd-44... 2017-01-03 20:28:52   \n",
       "1    https://ckd.upgrad.com/UpGrad/185242ff-7508-4c... 2017-01-03 20:18:21   \n",
       "2    https://ckd.upgrad.com/UpGrad/a353d129-c100-43... 2017-01-03 22:37:08   \n",
       "3    https://ckd.upgrad.com/UpGrad/002fc912-faa1-49... 2017-01-02 21:43:19   \n",
       "4    https://ckd.upgrad.com/UpGrad/25cbc4a4-6d49-4f... 2017-01-03 15:27:49   \n",
       "..                                                 ...                 ...   \n",
       "193  https://ckd.upgrad.com/UpGrad/ba485323-bba6-4b... 2017-01-03 22:43:12   \n",
       "194  https://ckd.upgrad.com/UpGrad/a65694d0-339b-44... 2017-01-09 23:59:34   \n",
       "195  https://ckd.upgrad.com/UpGrad/c3876ddf-2b2f-4a... 2016-12-19 21:44:13   \n",
       "196  https://ckd.upgrad.com/UpGrad/2b9732ad-0985-4a... 2017-01-09 23:23:06   \n",
       "197  https://ckd.upgrad.com/UpGrad/21da378c-75a4-4a... 2017-01-03 22:32:38   \n",
       "\n",
       "    file_extension  is_after  day  hour  \n",
       "0              zip     False    3    20  \n",
       "1              zip     False    3    20  \n",
       "2              zip     False    3    22  \n",
       "3              zip     False    2    21  \n",
       "4              zip     False    3    15  \n",
       "..             ...       ...  ...   ...  \n",
       "193            zip     False    3    22  \n",
       "194            zip      True    9    23  \n",
       "195            zip     False   19    21  \n",
       "196              R      True    9    23  \n",
       "197            zip     False    3    22  \n",
       "\n",
       "[198 rows x 6 columns]"
      ]
     },
     "execution_count": 280,
     "metadata": {},
     "output_type": "execute_result"
    }
   ],
   "source": [
    "# which hour of the day most students submitted\n",
    "grades['hour'] = grades['submit_time'].dt.hour\n",
    "grades"
   ]
  },
  {
   "cell_type": "code",
   "execution_count": 281,
   "id": "50d5b02d-07ca-4d64-816c-9b816ad7b988",
   "metadata": {},
   "outputs": [
    {
     "data": {
      "image/png": "[encoded data removed]",
      "text/plain": [
       "<Figure size 640x480 with 1 Axes>"
      ]
     },
     "metadata": {},
     "output_type": "display_data"
    }
   ],
   "source": [
    "# submission distribution by hour \n",
    "sns.countplot(x=grades['hour'])\n",
    "plt.show()"
   ]
  },
  {
   "cell_type": "code",
   "execution_count": null,
   "id": "18aeb64f-a809-482e-b851-442c155945ed",
   "metadata": {},
   "outputs": [],
   "source": []
  }
 ],
 "metadata": {
  "kernelspec": {
   "display_name": "Python 3 (ipykernel)",
   "language": "python",
   "name": "python3"
  },
  "language_info": {
   "codemirror_mode": {
    "name": "ipython",
    "version": 3
   },
   "file_extension": ".py",
   "mimetype": "text/x-python",
   "name": "python",
   "nbconvert_exporter": "python",
   "pygments_lexer": "ipython3",
   "version": "3.11.7"
  }
 },
 "nbformat": 4,
 "nbformat_minor": 5
}
